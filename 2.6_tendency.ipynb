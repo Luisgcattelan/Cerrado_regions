{
 "cells": [
  {
   "attachments": {},
   "cell_type": "markdown",
   "metadata": {},
   "source": [
    "# setup\n"
   ]
  },
  {
   "cell_type": "code",
   "execution_count": 11,
   "metadata": {},
   "outputs": [],
   "source": [
    "import matplotlib.pyplot as plt\n",
    "import numpy as np\n",
    "import pandas as pd\n",
    "import os\n",
    "import seaborn as sns\n",
    "import geopandas as gpd\n",
    "import xarray as xr\n",
    "import rioxarray\n",
    "import cmcrameri.cm\n",
    "import pymannkendall as mk\n",
    "import statsmodels.api as sm\n",
    "#import line2d\n",
    "from matplotlib.lines import Line2D\n",
    "from scipy.stats import entropy\n"
   ]
  },
  {
   "cell_type": "code",
   "execution_count": 12,
   "metadata": {},
   "outputs": [],
   "source": [
    "ibge = gpd.read_file(r'Data\\IBGE\\BiomasBrasil.shp')\n",
    "shp_cerrado = ibge[ibge.biomas == 'CERRADO']\n",
    "ds_knn = xr.open_dataset(r'Data\\knn_cerrado3.nc')\n",
    "ds_knn.rio.write_crs(shp_cerrado.crs, inplace=True)\n",
    "regions = gpd.read_file(r'Data\\regions1.geojson')\n",
    "gdf_knn = gpd.read_file('Data\\gdf_knn_bet.geojson')\n",
    "palette = sns.color_palette('cmc.batlow', 3)"
   ]
  },
  {
   "cell_type": "code",
   "execution_count": 13,
   "metadata": {},
   "outputs": [],
   "source": [
    "gdf = gpd.read_file('Data\\stations.geojson').to_crs(ibge.crs)\n",
    "df_cerrado = pd.read_pickle(r'Data\\df_cerrado_bet.pkl')\n",
    "gdf_filtered = gdf[gdf.Code.isin(df_cerrado.Code.unique())]"
   ]
  },
  {
   "cell_type": "code",
   "execution_count": 14,
   "metadata": {},
   "outputs": [],
   "source": [
    "gdf_knn = gpd.read_file('Data\\gdf_knn_bet.geojson')\n",
    "df_cerrado_regions = df_cerrado.merge(gdf_knn, on='Code', how='left')\n",
    "hue_order = ['Central', 'Southern','Eastern']"
   ]
  },
  {
   "attachments": {},
   "cell_type": "markdown",
   "metadata": {},
   "source": [
    "# mk\n"
   ]
  },
  {
   "attachments": {},
   "cell_type": "markdown",
   "metadata": {},
   "source": [
    "## yearly\n"
   ]
  },
  {
   "attachments": {},
   "cell_type": "markdown",
   "metadata": {},
   "source": [
    "### stations\n"
   ]
  },
  {
   "cell_type": "code",
   "execution_count": 15,
   "metadata": {},
   "outputs": [
    {
     "name": "stderr",
     "output_type": "stream",
     "text": [
      "C:\\Users\\luisg\\AppData\\Local\\Temp\\ipykernel_21224\\2619567733.py:5: FutureWarning: The default value of numeric_only in DataFrameGroupBy.sum is deprecated. In a future version, numeric_only will default to False. Either specify numeric_only or select only columns which should be valid for the function.\n",
      "  df_stat_year = df_cerrado_regions.groupby(['Code',df_cerrado_regions.Date.dt.year]).sum().reset_index()\n"
     ]
    }
   ],
   "source": [
    "gdf_filtered_mk = gdf_knn.drop(columns=['map', 'dsl', 'dsl_std', 'dsl_cv', 'dry_precip', 'dry_precip_std',\n",
    "       'dry_precip_cv', 'wet_precip', 'wet_precip_std', 'wet_precip_cv', 'msi',\n",
    "       'Entropy', 'cluster_kmeans', 'knn']).copy()\n",
    "\n",
    "df_stat_year = df_cerrado_regions.groupby(['Code',df_cerrado_regions.Date.dt.year]).sum().reset_index()       "
   ]
  },
  {
   "cell_type": "code",
   "execution_count": 16,
   "metadata": {},
   "outputs": [],
   "source": [
    "# do a mk test for each Code\n",
    "for code in df_stat_year.Code.unique():\n",
    "    test = mk.original_test(df_stat_year[df_stat_year.Code == code]['Total'])\n",
    "    gdf_filtered_mk.loc[gdf_filtered_mk.Code == code, 'trend'+ '_' + 'anual'] = test.trend\n",
    "    gdf_filtered_mk.loc[gdf_filtered_mk.Code == code, 'p'+ '_' + 'anual'] = test.p\n",
    "    gdf_filtered_mk.loc[gdf_filtered_mk.Code == code, 'slope'+ '_' + 'anual'] = test.slope\n",
    "    gdf_filtered_mk.loc[gdf_filtered_mk.Code == code, 'intercept'+ '_' + 'anual'] = test.intercept\n",
    "#gdf_filtered_mk[gdf_filtered_mk.Code == 1749005]\n"
   ]
  },
  {
   "attachments": {},
   "cell_type": "markdown",
   "metadata": {},
   "source": [
    "## seasonal\n"
   ]
  },
  {
   "attachments": {},
   "cell_type": "markdown",
   "metadata": {},
   "source": [
    "### all\n"
   ]
  },
  {
   "cell_type": "code",
   "execution_count": 17,
   "metadata": {},
   "outputs": [
    {
     "data": {
      "text/html": [
       "<div>\n",
       "<style scoped>\n",
       "    .dataframe tbody tr th:only-of-type {\n",
       "        vertical-align: middle;\n",
       "    }\n",
       "\n",
       "    .dataframe tbody tr th {\n",
       "        vertical-align: top;\n",
       "    }\n",
       "\n",
       "    .dataframe thead th {\n",
       "        text-align: right;\n",
       "    }\n",
       "</style>\n",
       "<table border=\"1\" class=\"dataframe\">\n",
       "  <thead>\n",
       "    <tr style=\"text-align: right;\">\n",
       "      <th></th>\n",
       "      <th>Code</th>\n",
       "      <th>Date</th>\n",
       "      <th>Total</th>\n",
       "      <th>Name</th>\n",
       "      <th>Latitude</th>\n",
       "      <th>Longitude</th>\n",
       "      <th>Altitude</th>\n",
       "      <th>map</th>\n",
       "      <th>dsl</th>\n",
       "      <th>dsl_std</th>\n",
       "      <th>...</th>\n",
       "      <th>wet_precip</th>\n",
       "      <th>wet_precip_std</th>\n",
       "      <th>wet_precip_cv</th>\n",
       "      <th>msi</th>\n",
       "      <th>Entropy</th>\n",
       "      <th>cluster_kmeans</th>\n",
       "      <th>knn</th>\n",
       "      <th>region</th>\n",
       "      <th>geometry</th>\n",
       "      <th>season</th>\n",
       "    </tr>\n",
       "  </thead>\n",
       "  <tbody>\n",
       "    <tr>\n",
       "      <th>0</th>\n",
       "      <td>343001</td>\n",
       "      <td>1981-01-01</td>\n",
       "      <td>130.900000</td>\n",
       "      <td>IGUARÁ</td>\n",
       "      <td>-3.5536</td>\n",
       "      <td>-43.8736</td>\n",
       "      <td>158.0</td>\n",
       "      <td>1648.37206</td>\n",
       "      <td>6.566667</td>\n",
       "      <td>1.006302</td>\n",
       "      <td>...</td>\n",
       "      <td>1465.585086</td>\n",
       "      <td>440.163045</td>\n",
       "      <td>0.300333</td>\n",
       "      <td>0.628205</td>\n",
       "      <td>0.634846</td>\n",
       "      <td>0</td>\n",
       "      <td>0</td>\n",
       "      <td>Central</td>\n",
       "      <td>POINT (-43.87360 -3.55360)</td>\n",
       "      <td>DJF</td>\n",
       "    </tr>\n",
       "    <tr>\n",
       "      <th>1</th>\n",
       "      <td>343001</td>\n",
       "      <td>1982-01-01</td>\n",
       "      <td>321.000000</td>\n",
       "      <td>IGUARÁ</td>\n",
       "      <td>-3.5536</td>\n",
       "      <td>-43.8736</td>\n",
       "      <td>158.0</td>\n",
       "      <td>1648.37206</td>\n",
       "      <td>6.566667</td>\n",
       "      <td>1.006302</td>\n",
       "      <td>...</td>\n",
       "      <td>1465.585086</td>\n",
       "      <td>440.163045</td>\n",
       "      <td>0.300333</td>\n",
       "      <td>0.628205</td>\n",
       "      <td>0.634846</td>\n",
       "      <td>0</td>\n",
       "      <td>0</td>\n",
       "      <td>Central</td>\n",
       "      <td>POINT (-43.87360 -3.55360)</td>\n",
       "      <td>DJF</td>\n",
       "    </tr>\n",
       "    <tr>\n",
       "      <th>2</th>\n",
       "      <td>343001</td>\n",
       "      <td>1983-01-01</td>\n",
       "      <td>110.600000</td>\n",
       "      <td>IGUARÁ</td>\n",
       "      <td>-3.5536</td>\n",
       "      <td>-43.8736</td>\n",
       "      <td>158.0</td>\n",
       "      <td>1648.37206</td>\n",
       "      <td>6.566667</td>\n",
       "      <td>1.006302</td>\n",
       "      <td>...</td>\n",
       "      <td>1465.585086</td>\n",
       "      <td>440.163045</td>\n",
       "      <td>0.300333</td>\n",
       "      <td>0.628205</td>\n",
       "      <td>0.634846</td>\n",
       "      <td>0</td>\n",
       "      <td>0</td>\n",
       "      <td>Central</td>\n",
       "      <td>POINT (-43.87360 -3.55360)</td>\n",
       "      <td>DJF</td>\n",
       "    </tr>\n",
       "    <tr>\n",
       "      <th>3</th>\n",
       "      <td>343001</td>\n",
       "      <td>1984-01-01</td>\n",
       "      <td>357.200000</td>\n",
       "      <td>IGUARÁ</td>\n",
       "      <td>-3.5536</td>\n",
       "      <td>-43.8736</td>\n",
       "      <td>158.0</td>\n",
       "      <td>1648.37206</td>\n",
       "      <td>6.566667</td>\n",
       "      <td>1.006302</td>\n",
       "      <td>...</td>\n",
       "      <td>1465.585086</td>\n",
       "      <td>440.163045</td>\n",
       "      <td>0.300333</td>\n",
       "      <td>0.628205</td>\n",
       "      <td>0.634846</td>\n",
       "      <td>0</td>\n",
       "      <td>0</td>\n",
       "      <td>Central</td>\n",
       "      <td>POINT (-43.87360 -3.55360)</td>\n",
       "      <td>DJF</td>\n",
       "    </tr>\n",
       "    <tr>\n",
       "      <th>4</th>\n",
       "      <td>343001</td>\n",
       "      <td>1985-01-01</td>\n",
       "      <td>332.800000</td>\n",
       "      <td>IGUARÁ</td>\n",
       "      <td>-3.5536</td>\n",
       "      <td>-43.8736</td>\n",
       "      <td>158.0</td>\n",
       "      <td>1648.37206</td>\n",
       "      <td>6.566667</td>\n",
       "      <td>1.006302</td>\n",
       "      <td>...</td>\n",
       "      <td>1465.585086</td>\n",
       "      <td>440.163045</td>\n",
       "      <td>0.300333</td>\n",
       "      <td>0.628205</td>\n",
       "      <td>0.634846</td>\n",
       "      <td>0</td>\n",
       "      <td>0</td>\n",
       "      <td>Central</td>\n",
       "      <td>POINT (-43.87360 -3.55360)</td>\n",
       "      <td>DJF</td>\n",
       "    </tr>\n",
       "    <tr>\n",
       "      <th>...</th>\n",
       "      <td>...</td>\n",
       "      <td>...</td>\n",
       "      <td>...</td>\n",
       "      <td>...</td>\n",
       "      <td>...</td>\n",
       "      <td>...</td>\n",
       "      <td>...</td>\n",
       "      <td>...</td>\n",
       "      <td>...</td>\n",
       "      <td>...</td>\n",
       "      <td>...</td>\n",
       "      <td>...</td>\n",
       "      <td>...</td>\n",
       "      <td>...</td>\n",
       "      <td>...</td>\n",
       "      <td>...</td>\n",
       "      <td>...</td>\n",
       "      <td>...</td>\n",
       "      <td>...</td>\n",
       "      <td>...</td>\n",
       "      <td>...</td>\n",
       "    </tr>\n",
       "    <tr>\n",
       "      <th>172075</th>\n",
       "      <td>2450036</td>\n",
       "      <td>2006-12-01</td>\n",
       "      <td>169.500000</td>\n",
       "      <td>FAZENDA REDOMONA</td>\n",
       "      <td>-24.2586</td>\n",
       "      <td>-50.0839</td>\n",
       "      <td>957.0</td>\n",
       "      <td>1616.75608</td>\n",
       "      <td>5.500000</td>\n",
       "      <td>1.696853</td>\n",
       "      <td>...</td>\n",
       "      <td>1295.689301</td>\n",
       "      <td>393.183300</td>\n",
       "      <td>0.303455</td>\n",
       "      <td>0.257009</td>\n",
       "      <td>0.094474</td>\n",
       "      <td>1</td>\n",
       "      <td>1</td>\n",
       "      <td>Southern</td>\n",
       "      <td>POINT (-50.08390 -24.25860)</td>\n",
       "      <td>DJF</td>\n",
       "    </tr>\n",
       "    <tr>\n",
       "      <th>172076</th>\n",
       "      <td>2450036</td>\n",
       "      <td>2007-12-01</td>\n",
       "      <td>319.900000</td>\n",
       "      <td>FAZENDA REDOMONA</td>\n",
       "      <td>-24.2586</td>\n",
       "      <td>-50.0839</td>\n",
       "      <td>957.0</td>\n",
       "      <td>1616.75608</td>\n",
       "      <td>5.500000</td>\n",
       "      <td>1.696853</td>\n",
       "      <td>...</td>\n",
       "      <td>1295.689301</td>\n",
       "      <td>393.183300</td>\n",
       "      <td>0.303455</td>\n",
       "      <td>0.257009</td>\n",
       "      <td>0.094474</td>\n",
       "      <td>1</td>\n",
       "      <td>1</td>\n",
       "      <td>Southern</td>\n",
       "      <td>POINT (-50.08390 -24.25860)</td>\n",
       "      <td>DJF</td>\n",
       "    </tr>\n",
       "    <tr>\n",
       "      <th>172077</th>\n",
       "      <td>2450036</td>\n",
       "      <td>2008-12-01</td>\n",
       "      <td>168.700000</td>\n",
       "      <td>FAZENDA REDOMONA</td>\n",
       "      <td>-24.2586</td>\n",
       "      <td>-50.0839</td>\n",
       "      <td>957.0</td>\n",
       "      <td>1616.75608</td>\n",
       "      <td>5.500000</td>\n",
       "      <td>1.696853</td>\n",
       "      <td>...</td>\n",
       "      <td>1295.689301</td>\n",
       "      <td>393.183300</td>\n",
       "      <td>0.303455</td>\n",
       "      <td>0.257009</td>\n",
       "      <td>0.094474</td>\n",
       "      <td>1</td>\n",
       "      <td>1</td>\n",
       "      <td>Southern</td>\n",
       "      <td>POINT (-50.08390 -24.25860)</td>\n",
       "      <td>DJF</td>\n",
       "    </tr>\n",
       "    <tr>\n",
       "      <th>172078</th>\n",
       "      <td>2450036</td>\n",
       "      <td>2009-12-01</td>\n",
       "      <td>151.036479</td>\n",
       "      <td>FAZENDA REDOMONA</td>\n",
       "      <td>-24.2586</td>\n",
       "      <td>-50.0839</td>\n",
       "      <td>957.0</td>\n",
       "      <td>1616.75608</td>\n",
       "      <td>5.500000</td>\n",
       "      <td>1.696853</td>\n",
       "      <td>...</td>\n",
       "      <td>1295.689301</td>\n",
       "      <td>393.183300</td>\n",
       "      <td>0.303455</td>\n",
       "      <td>0.257009</td>\n",
       "      <td>0.094474</td>\n",
       "      <td>1</td>\n",
       "      <td>1</td>\n",
       "      <td>Southern</td>\n",
       "      <td>POINT (-50.08390 -24.25860)</td>\n",
       "      <td>DJF</td>\n",
       "    </tr>\n",
       "    <tr>\n",
       "      <th>172079</th>\n",
       "      <td>2450036</td>\n",
       "      <td>2010-12-01</td>\n",
       "      <td>282.500000</td>\n",
       "      <td>FAZENDA REDOMONA</td>\n",
       "      <td>-24.2586</td>\n",
       "      <td>-50.0839</td>\n",
       "      <td>957.0</td>\n",
       "      <td>1616.75608</td>\n",
       "      <td>5.500000</td>\n",
       "      <td>1.696853</td>\n",
       "      <td>...</td>\n",
       "      <td>1295.689301</td>\n",
       "      <td>393.183300</td>\n",
       "      <td>0.303455</td>\n",
       "      <td>0.257009</td>\n",
       "      <td>0.094474</td>\n",
       "      <td>1</td>\n",
       "      <td>1</td>\n",
       "      <td>Southern</td>\n",
       "      <td>POINT (-50.08390 -24.25860)</td>\n",
       "      <td>DJF</td>\n",
       "    </tr>\n",
       "  </tbody>\n",
       "</table>\n",
       "<p>172080 rows × 24 columns</p>\n",
       "</div>"
      ],
      "text/plain": [
       "           Code       Date       Total              Name  Latitude  Longitude  \\\n",
       "0        343001 1981-01-01  130.900000            IGUARÁ   -3.5536   -43.8736   \n",
       "1        343001 1982-01-01  321.000000            IGUARÁ   -3.5536   -43.8736   \n",
       "2        343001 1983-01-01  110.600000            IGUARÁ   -3.5536   -43.8736   \n",
       "3        343001 1984-01-01  357.200000            IGUARÁ   -3.5536   -43.8736   \n",
       "4        343001 1985-01-01  332.800000            IGUARÁ   -3.5536   -43.8736   \n",
       "...         ...        ...         ...               ...       ...        ...   \n",
       "172075  2450036 2006-12-01  169.500000  FAZENDA REDOMONA  -24.2586   -50.0839   \n",
       "172076  2450036 2007-12-01  319.900000  FAZENDA REDOMONA  -24.2586   -50.0839   \n",
       "172077  2450036 2008-12-01  168.700000  FAZENDA REDOMONA  -24.2586   -50.0839   \n",
       "172078  2450036 2009-12-01  151.036479  FAZENDA REDOMONA  -24.2586   -50.0839   \n",
       "172079  2450036 2010-12-01  282.500000  FAZENDA REDOMONA  -24.2586   -50.0839   \n",
       "\n",
       "        Altitude         map       dsl   dsl_std  ...   wet_precip  \\\n",
       "0          158.0  1648.37206  6.566667  1.006302  ...  1465.585086   \n",
       "1          158.0  1648.37206  6.566667  1.006302  ...  1465.585086   \n",
       "2          158.0  1648.37206  6.566667  1.006302  ...  1465.585086   \n",
       "3          158.0  1648.37206  6.566667  1.006302  ...  1465.585086   \n",
       "4          158.0  1648.37206  6.566667  1.006302  ...  1465.585086   \n",
       "...          ...         ...       ...       ...  ...          ...   \n",
       "172075     957.0  1616.75608  5.500000  1.696853  ...  1295.689301   \n",
       "172076     957.0  1616.75608  5.500000  1.696853  ...  1295.689301   \n",
       "172077     957.0  1616.75608  5.500000  1.696853  ...  1295.689301   \n",
       "172078     957.0  1616.75608  5.500000  1.696853  ...  1295.689301   \n",
       "172079     957.0  1616.75608  5.500000  1.696853  ...  1295.689301   \n",
       "\n",
       "        wet_precip_std  wet_precip_cv       msi   Entropy  cluster_kmeans  \\\n",
       "0           440.163045       0.300333  0.628205  0.634846               0   \n",
       "1           440.163045       0.300333  0.628205  0.634846               0   \n",
       "2           440.163045       0.300333  0.628205  0.634846               0   \n",
       "3           440.163045       0.300333  0.628205  0.634846               0   \n",
       "4           440.163045       0.300333  0.628205  0.634846               0   \n",
       "...                ...            ...       ...       ...             ...   \n",
       "172075      393.183300       0.303455  0.257009  0.094474               1   \n",
       "172076      393.183300       0.303455  0.257009  0.094474               1   \n",
       "172077      393.183300       0.303455  0.257009  0.094474               1   \n",
       "172078      393.183300       0.303455  0.257009  0.094474               1   \n",
       "172079      393.183300       0.303455  0.257009  0.094474               1   \n",
       "\n",
       "        knn    region                     geometry  season  \n",
       "0         0   Central   POINT (-43.87360 -3.55360)     DJF  \n",
       "1         0   Central   POINT (-43.87360 -3.55360)     DJF  \n",
       "2         0   Central   POINT (-43.87360 -3.55360)     DJF  \n",
       "3         0   Central   POINT (-43.87360 -3.55360)     DJF  \n",
       "4         0   Central   POINT (-43.87360 -3.55360)     DJF  \n",
       "...     ...       ...                          ...     ...  \n",
       "172075    1  Southern  POINT (-50.08390 -24.25860)     DJF  \n",
       "172076    1  Southern  POINT (-50.08390 -24.25860)     DJF  \n",
       "172077    1  Southern  POINT (-50.08390 -24.25860)     DJF  \n",
       "172078    1  Southern  POINT (-50.08390 -24.25860)     DJF  \n",
       "172079    1  Southern  POINT (-50.08390 -24.25860)     DJF  \n",
       "\n",
       "[172080 rows x 24 columns]"
      ]
     },
     "execution_count": 17,
     "metadata": {},
     "output_type": "execute_result"
    }
   ],
   "source": [
    "#groupby season of year SON, DJF, MAM, JJA \n",
    "df_cerrado_regions['season'] = df_cerrado_regions.Date.dt.month.apply(lambda x: 'DJF' if x in [12, 1, 2] else ('MAM' if x in [3, 4, 5] else ('JJA' if x in [6, 7, 8] else 'SON')))\n",
    "df_cerrado_regions\n"
   ]
  },
  {
   "attachments": {},
   "cell_type": "markdown",
   "metadata": {},
   "source": [
    "### stations\n"
   ]
  },
  {
   "cell_type": "code",
   "execution_count": 18,
   "metadata": {},
   "outputs": [
    {
     "ename": "KeyError",
     "evalue": "'season'",
     "output_type": "error",
     "traceback": [
      "\u001b[1;31m---------------------------------------------------------------------------\u001b[0m",
      "\u001b[1;31mKeyError\u001b[0m                                  Traceback (most recent call last)",
      "\u001b[1;32md:\\GU\\IC\\Scripts\\2.6_tendency.ipynb Cell 15\u001b[0m line \u001b[0;36m1\n\u001b[1;32m----> <a href='vscode-notebook-cell:/d%3A/GU/IC/Scripts/2.6_tendency.ipynb#X20sZmlsZQ%3D%3D?line=0'>1</a>\u001b[0m df_stat_season\u001b[39m=\u001b[39m df_cerrado\u001b[39m.\u001b[39mgroupby([\u001b[39m'\u001b[39m\u001b[39mCode\u001b[39m\u001b[39m'\u001b[39m,df_cerrado\u001b[39m.\u001b[39mDate\u001b[39m.\u001b[39mdt\u001b[39m.\u001b[39myear, \u001b[39m'\u001b[39m\u001b[39mseason\u001b[39m\u001b[39m'\u001b[39m])\u001b[39m.\u001b[39mmean()\u001b[39m.\u001b[39mreset_index()\n",
      "File \u001b[1;32mc:\\Users\\luisg\\anaconda3\\envs\\geo_env\\lib\\site-packages\\pandas\\core\\frame.py:8392\u001b[0m, in \u001b[0;36mDataFrame.groupby\u001b[1;34m(self, by, axis, level, as_index, sort, group_keys, squeeze, observed, dropna)\u001b[0m\n\u001b[0;32m   8389\u001b[0m     \u001b[39mraise\u001b[39;00m \u001b[39mTypeError\u001b[39;00m(\u001b[39m\"\u001b[39m\u001b[39mYou have to supply one of \u001b[39m\u001b[39m'\u001b[39m\u001b[39mby\u001b[39m\u001b[39m'\u001b[39m\u001b[39m and \u001b[39m\u001b[39m'\u001b[39m\u001b[39mlevel\u001b[39m\u001b[39m'\u001b[39m\u001b[39m\"\u001b[39m)\n\u001b[0;32m   8390\u001b[0m axis \u001b[39m=\u001b[39m \u001b[39mself\u001b[39m\u001b[39m.\u001b[39m_get_axis_number(axis)\n\u001b[1;32m-> 8392\u001b[0m \u001b[39mreturn\u001b[39;00m DataFrameGroupBy(\n\u001b[0;32m   8393\u001b[0m     obj\u001b[39m=\u001b[39;49m\u001b[39mself\u001b[39;49m,\n\u001b[0;32m   8394\u001b[0m     keys\u001b[39m=\u001b[39;49mby,\n\u001b[0;32m   8395\u001b[0m     axis\u001b[39m=\u001b[39;49maxis,\n\u001b[0;32m   8396\u001b[0m     level\u001b[39m=\u001b[39;49mlevel,\n\u001b[0;32m   8397\u001b[0m     as_index\u001b[39m=\u001b[39;49mas_index,\n\u001b[0;32m   8398\u001b[0m     sort\u001b[39m=\u001b[39;49msort,\n\u001b[0;32m   8399\u001b[0m     group_keys\u001b[39m=\u001b[39;49mgroup_keys,\n\u001b[0;32m   8400\u001b[0m     squeeze\u001b[39m=\u001b[39;49msqueeze,\n\u001b[0;32m   8401\u001b[0m     observed\u001b[39m=\u001b[39;49mobserved,\n\u001b[0;32m   8402\u001b[0m     dropna\u001b[39m=\u001b[39;49mdropna,\n\u001b[0;32m   8403\u001b[0m )\n",
      "File \u001b[1;32mc:\\Users\\luisg\\anaconda3\\envs\\geo_env\\lib\\site-packages\\pandas\\core\\groupby\\groupby.py:959\u001b[0m, in \u001b[0;36mGroupBy.__init__\u001b[1;34m(self, obj, keys, axis, level, grouper, exclusions, selection, as_index, sort, group_keys, squeeze, observed, mutated, dropna)\u001b[0m\n\u001b[0;32m    956\u001b[0m \u001b[39mif\u001b[39;00m grouper \u001b[39mis\u001b[39;00m \u001b[39mNone\u001b[39;00m:\n\u001b[0;32m    957\u001b[0m     \u001b[39mfrom\u001b[39;00m \u001b[39mpandas\u001b[39;00m\u001b[39m.\u001b[39;00m\u001b[39mcore\u001b[39;00m\u001b[39m.\u001b[39;00m\u001b[39mgroupby\u001b[39;00m\u001b[39m.\u001b[39;00m\u001b[39mgrouper\u001b[39;00m \u001b[39mimport\u001b[39;00m get_grouper\n\u001b[1;32m--> 959\u001b[0m     grouper, exclusions, obj \u001b[39m=\u001b[39m get_grouper(\n\u001b[0;32m    960\u001b[0m         obj,\n\u001b[0;32m    961\u001b[0m         keys,\n\u001b[0;32m    962\u001b[0m         axis\u001b[39m=\u001b[39;49maxis,\n\u001b[0;32m    963\u001b[0m         level\u001b[39m=\u001b[39;49mlevel,\n\u001b[0;32m    964\u001b[0m         sort\u001b[39m=\u001b[39;49msort,\n\u001b[0;32m    965\u001b[0m         observed\u001b[39m=\u001b[39;49mobserved,\n\u001b[0;32m    966\u001b[0m         mutated\u001b[39m=\u001b[39;49m\u001b[39mself\u001b[39;49m\u001b[39m.\u001b[39;49mmutated,\n\u001b[0;32m    967\u001b[0m         dropna\u001b[39m=\u001b[39;49m\u001b[39mself\u001b[39;49m\u001b[39m.\u001b[39;49mdropna,\n\u001b[0;32m    968\u001b[0m     )\n\u001b[0;32m    970\u001b[0m \u001b[39mself\u001b[39m\u001b[39m.\u001b[39mobj \u001b[39m=\u001b[39m obj\n\u001b[0;32m    971\u001b[0m \u001b[39mself\u001b[39m\u001b[39m.\u001b[39maxis \u001b[39m=\u001b[39m obj\u001b[39m.\u001b[39m_get_axis_number(axis)\n",
      "File \u001b[1;32mc:\\Users\\luisg\\anaconda3\\envs\\geo_env\\lib\\site-packages\\pandas\\core\\groupby\\grouper.py:889\u001b[0m, in \u001b[0;36mget_grouper\u001b[1;34m(obj, key, axis, level, sort, observed, mutated, validate, dropna)\u001b[0m\n\u001b[0;32m    887\u001b[0m         in_axis, level, gpr \u001b[39m=\u001b[39m \u001b[39mFalse\u001b[39;00m, gpr, \u001b[39mNone\u001b[39;00m\n\u001b[0;32m    888\u001b[0m     \u001b[39melse\u001b[39;00m:\n\u001b[1;32m--> 889\u001b[0m         \u001b[39mraise\u001b[39;00m \u001b[39mKeyError\u001b[39;00m(gpr)\n\u001b[0;32m    890\u001b[0m \u001b[39melif\u001b[39;00m \u001b[39misinstance\u001b[39m(gpr, Grouper) \u001b[39mand\u001b[39;00m gpr\u001b[39m.\u001b[39mkey \u001b[39mis\u001b[39;00m \u001b[39mnot\u001b[39;00m \u001b[39mNone\u001b[39;00m:\n\u001b[0;32m    891\u001b[0m     \u001b[39m# Add key to exclusions\u001b[39;00m\n\u001b[0;32m    892\u001b[0m     exclusions\u001b[39m.\u001b[39madd(gpr\u001b[39m.\u001b[39mkey)\n",
      "\u001b[1;31mKeyError\u001b[0m: 'season'"
     ]
    }
   ],
   "source": [
    "df_stat_season= df_cerrado.groupby(['Code',df_cerrado.Date.dt.year, 'season']).mean().reset_index() "
   ]
  },
  {
   "cell_type": "code",
   "execution_count": null,
   "metadata": {},
   "outputs": [],
   "source": [
    "# do a mk test for each season and each code\n",
    "for season in df_stat_season.season.unique():\n",
    "    for code in df_stat_season.Code.unique():\n",
    "        test = mk.original_test(df_stat_season[(df_stat_season.season == season) & (df_stat_season.Code == code)]['Total'])\n",
    "        #create a column for each season\n",
    "        gdf_filtered_mk.loc[gdf_filtered_mk.Code == code, 'trend'+ '_' + season] = test.trend\n",
    "        gdf_filtered_mk.loc[gdf_filtered_mk.Code == code, 'p'+ '_' + season] = test.p\n",
    "        gdf_filtered_mk.loc[gdf_filtered_mk.Code == code, 'slope'+'_' +  season] = test.slope\n",
    "        gdf_filtered_mk.loc[gdf_filtered_mk.Code == code, 'intercept'+ '_' + season] = test.intercept"
   ]
  },
  {
   "attachments": {},
   "cell_type": "markdown",
   "metadata": {},
   "source": [
    "# DF bar plot\n"
   ]
  },
  {
   "cell_type": "code",
   "execution_count": null,
   "metadata": {},
   "outputs": [],
   "source": [
    "# create df with percentages of each trend by season\n",
    "\n",
    "dff = (100 * gdf_filtered_mk.groupby('region').trend_anual.value_counts() / gdf_filtered_mk.groupby('region').size()).unstack().reset_index()\n",
    "dff_all = (100 * gdf_filtered_mk.trend_anual.value_counts() / gdf_filtered_mk.shape[0]).reset_index()\n",
    "# concat dff and dff_all\n",
    "dff_all['region'] = 'All'\n",
    "dff_all.columns = ['Trend', 'Percentage', 'region']\n",
    "dff_all = dff_all[['region', 'Trend', 'Percentage']]\n",
    "dff = dff.melt(id_vars=['region'],  var_name=['Trend'], value_name='Percentage')\n",
    "df_anual = pd.concat([dff, dff_all])\n",
    "df_anual['Period'] = 'Anual'\n",
    "\n",
    "# save as the cell above but for each season\n",
    "dff = (100 * gdf_filtered_mk.groupby('region').trend_DJF.value_counts() / gdf_filtered_mk.groupby('region').size()).unstack().reset_index()\n",
    "dff_all = (100 * gdf_filtered_mk.trend_DJF.value_counts() / gdf_filtered_mk.shape[0]).reset_index()\n",
    "dff_all['region'] = 'All'\n",
    "dff_all.columns = ['Trend', 'Percentage', 'region']\n",
    "dff_all = dff_all[['region', 'Trend', 'Percentage']]\n",
    "dff = dff.melt(id_vars=['region'],  var_name=['Trend'], value_name='Percentage')\n",
    "df_DJF = pd.concat([dff, dff_all])\n",
    "df_DJF['Period'] = 'DJF'\n",
    "\n",
    "dff = (100 * gdf_filtered_mk.groupby('region').trend_MAM.value_counts() / gdf_filtered_mk.groupby('region').size()).unstack().reset_index()\n",
    "dff_all = (100 * gdf_filtered_mk.trend_MAM.value_counts() / gdf_filtered_mk.shape[0]).reset_index()\n",
    "dff_all['region'] = 'All'\n",
    "dff_all.columns = ['Trend', 'Percentage', 'region']\n",
    "dff_all = dff_all[['region', 'Trend', 'Percentage']]\n",
    "dff = dff.melt(id_vars=['region'],  var_name=['Trend'], value_name='Percentage')\n",
    "df_MAM = pd.concat([dff, dff_all])\n",
    "df_MAM['Period'] = 'MAM'\n",
    "\n",
    "dff = (100 * gdf_filtered_mk.groupby('region').trend_JJA.value_counts() / gdf_filtered_mk.groupby('region').size()).unstack().reset_index()\n",
    "dff_all = (100 * gdf_filtered_mk.trend_JJA.value_counts() / gdf_filtered_mk.shape[0]).reset_index()\n",
    "dff_all['region'] = 'All'\n",
    "dff_all.columns = ['Trend', 'Percentage', 'region']\n",
    "dff_all = dff_all[['region', 'Trend', 'Percentage']]\n",
    "dff = dff.melt(id_vars=['region'],  var_name=['Trend'], value_name='Percentage')\n",
    "df_JJA = pd.concat([dff, dff_all])\n",
    "df_JJA['Period'] = 'JJA'\n",
    "\n",
    "dff = (100 * gdf_filtered_mk.groupby('region').trend_SON.value_counts() / gdf_filtered_mk.groupby('region').size()).unstack().reset_index()\n",
    "dff_all = (100 * gdf_filtered_mk.trend_SON.value_counts() / gdf_filtered_mk.shape[0]).reset_index()\n",
    "dff_all['region'] = 'All'\n",
    "dff_all.columns = ['Trend', 'Percentage', 'region']\n",
    "dff_all = dff_all[['region', 'Trend', 'Percentage']]\n",
    "dff = dff.melt(id_vars=['region'],  var_name=['Trend'], value_name='Percentage')\n",
    "df_SON = pd.concat([dff, dff_all])\n",
    "df_SON['Period'] = 'SON'\n",
    "#concat all seasons\n",
    "\n",
    "df_trends = pd.concat([df_anual, df_DJF, df_MAM, df_JJA, df_SON]).reset_index(drop=True)\n"
   ]
  },
  {
   "cell_type": "code",
   "execution_count": null,
   "metadata": {},
   "outputs": [
    {
     "name": "stderr",
     "output_type": "stream",
     "text": [
      "C:\\Users\\luisg\\AppData\\Local\\Temp\\ipykernel_26700\\3356703512.py:2: FutureWarning: The frame.append method is deprecated and will be removed from pandas in a future version. Use pandas.concat instead.\n",
      "  df_trends = df_trends.append({'region': 'Central', 'Period': 'JJA', 'Trend': 'increasing', 'Percentage': 0}, ignore_index=True)\n",
      "C:\\Users\\luisg\\AppData\\Local\\Temp\\ipykernel_26700\\3356703512.py:3: FutureWarning: The frame.append method is deprecated and will be removed from pandas in a future version. Use pandas.concat instead.\n",
      "  df_trends = df_trends.append({'region': 'Southern', 'Period': 'JJA', 'Trend': 'increasing', 'Percentage': 0}, ignore_index=True)\n",
      "C:\\Users\\luisg\\AppData\\Local\\Temp\\ipykernel_26700\\3356703512.py:4: FutureWarning: The frame.append method is deprecated and will be removed from pandas in a future version. Use pandas.concat instead.\n",
      "  df_trends = df_trends.append({'region': 'Eastern', 'Period': 'JJA', 'Trend': 'increasing', 'Percentage': 0}, ignore_index=True)\n",
      "C:\\Users\\luisg\\AppData\\Local\\Temp\\ipykernel_26700\\3356703512.py:5: FutureWarning: The frame.append method is deprecated and will be removed from pandas in a future version. Use pandas.concat instead.\n",
      "  df_trends = df_trends.append({'region': 'All', 'Period': 'JJA', 'Trend': 'increasing', 'Percentage': 0}, ignore_index=True)\n"
     ]
    }
   ],
   "source": [
    "#create rows for each regioN with Periodo JJA, Trend=increasing and Percentage=0\n",
    "df_trends = df_trends.append({'region': 'Central', 'Period': 'JJA', 'Trend': 'increasing', 'Percentage': 0}, ignore_index=True)\n",
    "df_trends = df_trends.append({'region': 'Southern', 'Period': 'JJA', 'Trend': 'increasing', 'Percentage': 0}, ignore_index=True)\n",
    "df_trends = df_trends.append({'region': 'Eastern', 'Period': 'JJA', 'Trend': 'increasing', 'Percentage': 0}, ignore_index=True)\n",
    "df_trends = df_trends.append({'region': 'All', 'Period': 'JJA', 'Trend': 'increasing', 'Percentage': 0}, ignore_index=True)\n"
   ]
  },
  {
   "attachments": {},
   "cell_type": "markdown",
   "metadata": {},
   "source": [
    "## slopes\n"
   ]
  },
  {
   "cell_type": "code",
   "execution_count": null,
   "metadata": {},
   "outputs": [],
   "source": [
    "#count by region and season how many codes have a negative slope\n",
    "dff = (100 * gdf_filtered_mk[gdf_filtered_mk.slope_anual < 0].groupby('region').size() / gdf_filtered_mk.groupby('region').size()).reset_index().rename(columns={0:'Negative slope'})\n",
    "dff_all = (100 * gdf_filtered_mk[gdf_filtered_mk.slope_anual < 0].shape[0] / gdf_filtered_mk.shape[0])#.reset_index().rename(columns={0:'Negative slope'})\n",
    "dff_all = pd.DataFrame({'region': ['All'], 'Negative slope': [dff_all]})\n",
    "dff = pd.concat([dff, dff_all])\n",
    "dff['Positive slope'] = 100 - dff['Negative slope']\n",
    "dff_anual = dff.melt(id_vars=['region'],  var_name=['Trend'], value_name='Percentage')\n",
    "dff_anual['Period'] = 'Anual'\n",
    "\n",
    "#now for each season\n",
    "dff = (100 * gdf_filtered_mk[gdf_filtered_mk.slope_DJF < 0].groupby('region').size() / gdf_filtered_mk.groupby('region').size()).reset_index().rename(columns={0:'Negative slope'})\n",
    "dff_all = (100 * gdf_filtered_mk[gdf_filtered_mk.slope_DJF < 0].shape[0] / gdf_filtered_mk.shape[0])#.reset_index().rename(columns={0:'Negative slope'})\n",
    "dff_all = pd.DataFrame({'region': ['All'], 'Negative slope': [dff_all]})\n",
    "dff = pd.concat([dff, dff_all])\n",
    "dff['Positive slope'] = 100 - dff['Negative slope']\n",
    "dff_DJF = dff.melt(id_vars=['region'],  var_name=['Trend'], value_name='Percentage')\n",
    "dff_DJF['Period'] = 'DJF'\n",
    "\n",
    "dff = (100 * gdf_filtered_mk[gdf_filtered_mk.slope_MAM < 0].groupby('region').size() / gdf_filtered_mk.groupby('region').size()).reset_index().rename(columns={0:'Negative slope'})\n",
    "dff_all = (100 * gdf_filtered_mk[gdf_filtered_mk.slope_MAM < 0].shape[0] / gdf_filtered_mk.shape[0])#.reset_index().rename(columns={0:'Negative slope'})\n",
    "dff_all = pd.DataFrame({'region': ['All'], 'Negative slope': [dff_all]})\n",
    "dff = pd.concat([dff, dff_all])\n",
    "dff['Positive slope'] = 100 - dff['Negative slope']\n",
    "dff_MAM = dff.melt(id_vars=['region'],  var_name=['Trend'], value_name='Percentage')\n",
    "dff_MAM['Period'] = 'MAM'\n",
    "\n",
    "dff = (100 * gdf_filtered_mk[gdf_filtered_mk.slope_JJA < 0].groupby('region').size() / gdf_filtered_mk.groupby('region').size()).reset_index().rename(columns={0:'Negative slope'})\n",
    "dff_all = (100 * gdf_filtered_mk[gdf_filtered_mk.slope_JJA < 0].shape[0] / gdf_filtered_mk.shape[0])#.reset_index().rename(columns={0:'Negative slope'})\n",
    "dff_all = pd.DataFrame({'region': ['All'], 'Negative slope': [dff_all]})\n",
    "dff = pd.concat([dff, dff_all])\n",
    "dff['Positive slope'] = 100 - dff['Negative slope']\n",
    "dff_JJA = dff.melt(id_vars=['region'],  var_name=['Trend'], value_name='Percentage')\n",
    "dff_JJA['Period'] = 'JJA'\n",
    "\n",
    "dff = (100 * gdf_filtered_mk[gdf_filtered_mk.slope_SON < 0].groupby('region').size() / gdf_filtered_mk.groupby('region').size()).reset_index().rename(columns={0:'Negative slope'})\n",
    "dff_all = (100 * gdf_filtered_mk[gdf_filtered_mk.slope_SON < 0].shape[0] / gdf_filtered_mk.shape[0])#.reset_index().rename(columns={0:'Negative slope'})\n",
    "dff_all = pd.DataFrame({'region': ['All'], 'Negative slope': [dff_all]})\n",
    "dff = pd.concat([dff, dff_all])\n",
    "dff['Positive slope'] = 100 - dff['Negative slope']\n",
    "dff_SON = dff.melt(id_vars=['region'],  var_name=['Trend'], value_name='Percentage')\n",
    "dff_SON['Period'] = 'SON'\n",
    "\n",
    "#concat all seasons\n",
    "df_slopes = pd.concat([dff_anual, dff_DJF, dff_MAM, dff_JJA, dff_SON]).reset_index(drop=True)\n"
   ]
  },
  {
   "cell_type": "code",
   "execution_count": null,
   "metadata": {},
   "outputs": [],
   "source": [
    "dff = (100 * gdf_filtered_mk.groupby('region').trend_anual.value_counts() / gdf_filtered_mk.groupby('region').size()).unstack().reset_index()\n",
    "dff_all = (100 * gdf_filtered_mk.trend_anual.value_counts() / gdf_filtered_mk.shape[0]).reset_index()\n",
    "# concat dff and dff_all\n",
    "dff_all['region'] = 'All'\n",
    "dff_all.columns = ['Trend', 'Percentage', 'region']\n",
    "dff_all = dff_all[['region', 'Trend', 'Percentage']]\n",
    "dff = dff.melt(id_vars=['region'],  var_name=['Trend'], value_name='Percentage')\n",
    "df_anual = pd.concat([dff, dff_all])\n",
    "df_anual['Period'] = 'Anual'"
   ]
  },
  {
   "attachments": {},
   "cell_type": "markdown",
   "metadata": {},
   "source": [
    "# PLOT\n"
   ]
  },
  {
   "cell_type": "code",
   "execution_count": null,
   "metadata": {},
   "outputs": [],
   "source": [
    "#import Line2D\n",
    "from matplotlib.lines import Line2D"
   ]
  },
  {
   "cell_type": "code",
   "execution_count": null,
   "metadata": {},
   "outputs": [],
   "source": [
    "#EXCLUDE DATA with no trend\n",
    "df_trends = df_trends[df_trends.Trend != 'no trend']"
   ]
  },
  {
   "cell_type": "code",
   "execution_count": null,
   "metadata": {},
   "outputs": [],
   "source": [
    "df_trends.to_csv(r'Data\\tendency\\df_trends_pr.csv')\n",
    "df_slopes.to_csv(r'Data\\tendency\\df_slopes_pr.csv')\n",
    "gdf_filtered_mk.to_file(r'Data\\tendency\\gdf_mk_pr.geojson', driver='GeoJSON')"
   ]
  },
  {
   "attachments": {},
   "cell_type": "markdown",
   "metadata": {},
   "source": [
    "# Entropy\n"
   ]
  },
  {
   "cell_type": "code",
   "execution_count": null,
   "metadata": {},
   "outputs": [
    {
     "name": "stderr",
     "output_type": "stream",
     "text": [
      "C:\\Users\\luisg\\AppData\\Local\\Temp\\ipykernel_26700\\578818975.py:3: FutureWarning: Not prepending group keys to the result index of transform-like apply. In the future, the group keys will be included in the index, regardless of whether the applied function returns a like-indexed object.\n",
      "To preserve the previous behavior, use\n",
      "\n",
      "\t>>> .groupby(..., group_keys=False)\n",
      "\n",
      "To adopt the future behavior and silence this warning, use \n",
      "\n",
      "\t>>> .groupby(..., group_keys=True)\n",
      "  df_cerrado_ent['ratio'] = df_cerrado_ent.groupby(['Code', df_cerrado_ent.Date.dt.year])['Total'].apply(lambda x: x/x.sum()).rename('ratio').reset_index()['ratio']\n"
     ]
    }
   ],
   "source": [
    "df_cerrado_ent = df_cerrado_regions.sort_values(by=['Code', 'Date']).reset_index(drop=True)\n",
    "df_cerrado_ent.groupby(['Code', df_cerrado_ent.Date.dt.year]).mean(numeric_only=True)\n",
    "df_cerrado_ent['ratio'] = df_cerrado_ent.groupby(['Code', df_cerrado_ent.Date.dt.year])['Total'].apply(lambda x: x/x.sum()).rename('ratio').reset_index()['ratio']\n",
    "uniform = np.zeros(12)\n",
    "uniform[:] = 1/12\n",
    "df_cerrado_ent_all = df_cerrado_ent.groupby(['Code', df_cerrado_ent.Date.dt.year])['ratio'].apply(lambda x: entropy(x, qk=uniform,base=2)).reset_index().rename({'ratio': 'Entropy'},  axis='columns')"
   ]
  },
  {
   "cell_type": "code",
   "execution_count": null,
   "metadata": {},
   "outputs": [],
   "source": [
    "#merge df_cerrado_ent_all with\n",
    "df_cerrado_ent_all = df_cerrado_ent_all.merge(gdf_knn[['Code' ,'region']], on='Code', how='left')"
   ]
  },
  {
   "attachments": {},
   "cell_type": "markdown",
   "metadata": {},
   "source": [
    "## stations\n"
   ]
  },
  {
   "cell_type": "code",
   "execution_count": null,
   "metadata": {},
   "outputs": [],
   "source": [
    "for code in df_cerrado_ent_all.Code.unique():\n",
    "    test = mk.original_test(df_cerrado_ent_all[df_cerrado_ent_all.Code == code]['Entropy'])\n",
    "    gdf_filtered_mk.loc[gdf_filtered_mk.Code == code, 'trend'+ '_' + 'ent'] = test.trend\n",
    "    gdf_filtered_mk.loc[gdf_filtered_mk.Code == code, 'p'+ '_' + 'ent'] = test.p\n",
    "    gdf_filtered_mk.loc[gdf_filtered_mk.Code == code, 'slope'+ '_' + 'ent'] = test.slope\n",
    "    gdf_filtered_mk.loc[gdf_filtered_mk.Code == code, 'intercept'+ '_' + 'ent'] = test.intercept"
   ]
  },
  {
   "cell_type": "code",
   "execution_count": null,
   "metadata": {},
   "outputs": [],
   "source": [
    "dff = (100 * gdf_filtered_mk.groupby('region').trend_ent.value_counts() / gdf_filtered_mk.groupby('region').size()).unstack().reset_index()\n",
    "dff_all = (100 * gdf_filtered_mk.trend_ent.value_counts() / gdf_filtered_mk.shape[0]).reset_index()\n",
    "# concat dff and dff_all\n",
    "dff_all['region'] = 'All'\n",
    "dff_all.columns = ['Trend', 'Percentage', 'region']\n",
    "dff_all = dff_all[['region', 'Trend', 'Percentage']]\n",
    "dff = dff.melt(id_vars=['region'],  var_name=['Trend'], value_name='Percentage')\n",
    "df_ent_trend = pd.concat([dff, dff_all])\n"
   ]
  },
  {
   "cell_type": "code",
   "execution_count": null,
   "metadata": {},
   "outputs": [],
   "source": [
    "dff = (100 * gdf_filtered_mk[gdf_filtered_mk.slope_ent < 0].groupby('region').size() / gdf_filtered_mk.groupby('region').size()).reset_index().rename(columns={0:'Negative slope'})\n",
    "dff_all = (100 * gdf_filtered_mk[gdf_filtered_mk.slope_ent < 0].shape[0] / gdf_filtered_mk.shape[0])#.reset_index().rename(columns={0:'Negative slope'})\n",
    "dff_all = pd.DataFrame({'region': ['All'], 'Negative slope': [dff_all]})\n",
    "dff = pd.concat([dff, dff_all])\n",
    "dff['Positive slope'] = 100 - dff['Negative slope']\n",
    "dff_ent_slope = dff.melt(id_vars=['region'],  var_name=['Trend'], value_name='Percentage')\n"
   ]
  },
  {
   "cell_type": "code",
   "execution_count": null,
   "metadata": {},
   "outputs": [],
   "source": [
    "df_ent_trend = df_ent_trend[df_ent_trend.Trend != 'no trend']"
   ]
  },
  {
   "cell_type": "code",
   "execution_count": null,
   "metadata": {},
   "outputs": [],
   "source": [
    "#import TwoSlopeNorm\n",
    "from matplotlib.colors import TwoSlopeNorm"
   ]
  },
  {
   "cell_type": "code",
   "execution_count": null,
   "metadata": {},
   "outputs": [],
   "source": [
    "#df_ent_trend.to_csv(r'Data\\tendency\\df_trends_ent.csv')\n",
    "#dff_ent_slope.to_csv(r'Data\\tendency\\df_slopes_ent.csv')\n",
    "gdf_filtered_mk.to_file(r'Data\\tendency\\gdf_mk_pr_ent.geojson', driver='GeoJSON')"
   ]
  },
  {
   "attachments": {},
   "cell_type": "markdown",
   "metadata": {},
   "source": [
    "# KDES\n"
   ]
  },
  {
   "cell_type": "code",
   "execution_count": null,
   "metadata": {},
   "outputs": [
    {
     "data": {
      "image/png": "[encoded data removed]",
      "text/plain": [
       "<Figure size 900x1600 with 5 Axes>"
      ]
     },
     "metadata": {},
     "output_type": "display_data"
    }
   ],
   "source": [
    "#subplot of kde for all slopes columns\n",
    "fig , ax = plt.subplots(5,1, figsize=(9, 16), sharex=True)\n",
    "\n",
    "sns.kdeplot(gdf_filtered_mk, legend=False, hue= 'region', x='slope_anual', fill=True, palette=palette, hue_order=hue_order, ax=ax[0], common_norm=False)\n",
    "sns.kdeplot(gdf_filtered_mk, legend=False, hue= 'region', x='slope_DJF', fill=True, palette=palette, hue_order=hue_order, ax=ax[1],common_norm=False)\n",
    "sns.kdeplot(gdf_filtered_mk, legend=False, hue= 'region', x='slope_MAM', fill=True, palette=palette, hue_order=hue_order, ax=ax[2],common_norm=False)\n",
    "sns.kdeplot(gdf_filtered_mk, legend=False, hue= 'region', x='slope_JJA', fill=True, palette=palette, hue_order=hue_order, ax=ax[3],common_norm=False)\n",
    "sns.kdeplot(gdf_filtered_mk, legend=False, hue= 'region', x='slope_SON', fill=True, palette=palette, hue_order=hue_order, ax=ax[4],common_norm=False)\n",
    "\n",
    "ax[0].set_title('Annual')\n",
    "ax[1].set_title('DJF')\n",
    "ax[2].set_title('MAM')\n",
    "ax[3].set_title('JJA')\n",
    "ax[4].set_title('SON')\n",
    "ax[4].set_xlabel('Slope')\n",
    "ax[4].set_xlim([-25, 25])\n",
    "#plot a vertical line in 0\n",
    "for i in range(5):\n",
    "    ax[i].axvline(x=0, color='black', linestyle='--')\n",
    "    ax[i].set_ylabel('Density')\n"
   ]
  },
  {
   "attachments": {},
   "cell_type": "markdown",
   "metadata": {},
   "source": [
    "# VPD\n"
   ]
  },
  {
   "cell_type": "code",
   "execution_count": null,
   "metadata": {},
   "outputs": [],
   "source": []
  },
  {
   "cell_type": "code",
   "execution_count": 25,
   "metadata": {},
   "outputs": [
    {
     "ename": "FileNotFoundError",
     "evalue": "[Errno 2] No such file or directory: 'Data\\\\inmet_stat_cerrado.csv'",
     "output_type": "error",
     "traceback": [
      "\u001b[1;31m---------------------------------------------------------------------------\u001b[0m",
      "\u001b[1;31mFileNotFoundError\u001b[0m                         Traceback (most recent call last)",
      "\u001b[1;32md:\\GU\\IC\\Scripts\\2.6_tendency.ipynb Cell 40\u001b[0m line \u001b[0;36m3\n\u001b[0;32m      <a href='vscode-notebook-cell:/d%3A/GU/IC/Scripts/2.6_tendency.ipynb#X54sZmlsZQ%3D%3D?line=0'>1</a>\u001b[0m \u001b[39m#open r'Data\\Inmet\\df_INMET_monthly.csv'\u001b[39;00m\n\u001b[0;32m      <a href='vscode-notebook-cell:/d%3A/GU/IC/Scripts/2.6_tendency.ipynb#X54sZmlsZQ%3D%3D?line=1'>2</a>\u001b[0m df_inmet \u001b[39m=\u001b[39m pd\u001b[39m.\u001b[39mread_csv(\u001b[39mr\u001b[39m\u001b[39m'\u001b[39m\u001b[39mData\u001b[39m\u001b[39m\\\u001b[39m\u001b[39mInmet\u001b[39m\u001b[39m\\\u001b[39m\u001b[39mdf_INMET_monthly.csv\u001b[39m\u001b[39m'\u001b[39m)\n\u001b[1;32m----> <a href='vscode-notebook-cell:/d%3A/GU/IC/Scripts/2.6_tendency.ipynb#X54sZmlsZQ%3D%3D?line=2'>3</a>\u001b[0m df_inmet_stat \u001b[39m=\u001b[39m pd\u001b[39m.\u001b[39mread_csv(\u001b[39m'\u001b[39m\u001b[39mData\u001b[39m\u001b[39m\\\u001b[39m\u001b[39minmet_stat_cerrado.csv\u001b[39m\u001b[39m'\u001b[39m, index_col\u001b[39m=\u001b[39m\u001b[39m0\u001b[39m)\n\u001b[0;32m      <a href='vscode-notebook-cell:/d%3A/GU/IC/Scripts/2.6_tendency.ipynb#X54sZmlsZQ%3D%3D?line=3'>4</a>\u001b[0m gdf_inmet \u001b[39m=\u001b[39m gpd\u001b[39m.\u001b[39mGeoDataFrame(df_inmet_stat, geometry\u001b[39m=\u001b[39mgpd\u001b[39m.\u001b[39mpoints_from_xy(df_inmet_stat\u001b[39m.\u001b[39mLongitude, df_inmet_stat\u001b[39m.\u001b[39mLatitude))\n\u001b[0;32m      <a href='vscode-notebook-cell:/d%3A/GU/IC/Scripts/2.6_tendency.ipynb#X54sZmlsZQ%3D%3D?line=4'>5</a>\u001b[0m gdf_inmet \u001b[39m=\u001b[39m gdf_inmet\u001b[39m.\u001b[39mset_crs(epsg\u001b[39m=\u001b[39m\u001b[39m4326\u001b[39m)\u001b[39m.\u001b[39mto_crs(regions\u001b[39m.\u001b[39mcrs)\n",
      "File \u001b[1;32mc:\\Users\\luisg\\anaconda3\\envs\\geo_env\\lib\\site-packages\\pandas\\util\\_decorators.py:211\u001b[0m, in \u001b[0;36mdeprecate_kwarg.<locals>._deprecate_kwarg.<locals>.wrapper\u001b[1;34m(*args, **kwargs)\u001b[0m\n\u001b[0;32m    209\u001b[0m     \u001b[39melse\u001b[39;00m:\n\u001b[0;32m    210\u001b[0m         kwargs[new_arg_name] \u001b[39m=\u001b[39m new_arg_value\n\u001b[1;32m--> 211\u001b[0m \u001b[39mreturn\u001b[39;00m func(\u001b[39m*\u001b[39margs, \u001b[39m*\u001b[39m\u001b[39m*\u001b[39mkwargs)\n",
      "File \u001b[1;32mc:\\Users\\luisg\\anaconda3\\envs\\geo_env\\lib\\site-packages\\pandas\\util\\_decorators.py:317\u001b[0m, in \u001b[0;36mdeprecate_nonkeyword_arguments.<locals>.decorate.<locals>.wrapper\u001b[1;34m(*args, **kwargs)\u001b[0m\n\u001b[0;32m    311\u001b[0m \u001b[39mif\u001b[39;00m \u001b[39mlen\u001b[39m(args) \u001b[39m>\u001b[39m num_allow_args:\n\u001b[0;32m    312\u001b[0m     warnings\u001b[39m.\u001b[39mwarn(\n\u001b[0;32m    313\u001b[0m         msg\u001b[39m.\u001b[39mformat(arguments\u001b[39m=\u001b[39marguments),\n\u001b[0;32m    314\u001b[0m         \u001b[39mFutureWarning\u001b[39;00m,\n\u001b[0;32m    315\u001b[0m         stacklevel\u001b[39m=\u001b[39mfind_stack_level(inspect\u001b[39m.\u001b[39mcurrentframe()),\n\u001b[0;32m    316\u001b[0m     )\n\u001b[1;32m--> 317\u001b[0m \u001b[39mreturn\u001b[39;00m func(\u001b[39m*\u001b[39margs, \u001b[39m*\u001b[39m\u001b[39m*\u001b[39mkwargs)\n",
      "File \u001b[1;32mc:\\Users\\luisg\\anaconda3\\envs\\geo_env\\lib\\site-packages\\pandas\\io\\parsers\\readers.py:950\u001b[0m, in \u001b[0;36mread_csv\u001b[1;34m(filepath_or_buffer, sep, delimiter, header, names, index_col, usecols, squeeze, prefix, mangle_dupe_cols, dtype, engine, converters, true_values, false_values, skipinitialspace, skiprows, skipfooter, nrows, na_values, keep_default_na, na_filter, verbose, skip_blank_lines, parse_dates, infer_datetime_format, keep_date_col, date_parser, dayfirst, cache_dates, iterator, chunksize, compression, thousands, decimal, lineterminator, quotechar, quoting, doublequote, escapechar, comment, encoding, encoding_errors, dialect, error_bad_lines, warn_bad_lines, on_bad_lines, delim_whitespace, low_memory, memory_map, float_precision, storage_options)\u001b[0m\n\u001b[0;32m    935\u001b[0m kwds_defaults \u001b[39m=\u001b[39m _refine_defaults_read(\n\u001b[0;32m    936\u001b[0m     dialect,\n\u001b[0;32m    937\u001b[0m     delimiter,\n\u001b[1;32m   (...)\u001b[0m\n\u001b[0;32m    946\u001b[0m     defaults\u001b[39m=\u001b[39m{\u001b[39m\"\u001b[39m\u001b[39mdelimiter\u001b[39m\u001b[39m\"\u001b[39m: \u001b[39m\"\u001b[39m\u001b[39m,\u001b[39m\u001b[39m\"\u001b[39m},\n\u001b[0;32m    947\u001b[0m )\n\u001b[0;32m    948\u001b[0m kwds\u001b[39m.\u001b[39mupdate(kwds_defaults)\n\u001b[1;32m--> 950\u001b[0m \u001b[39mreturn\u001b[39;00m _read(filepath_or_buffer, kwds)\n",
      "File \u001b[1;32mc:\\Users\\luisg\\anaconda3\\envs\\geo_env\\lib\\site-packages\\pandas\\io\\parsers\\readers.py:605\u001b[0m, in \u001b[0;36m_read\u001b[1;34m(filepath_or_buffer, kwds)\u001b[0m\n\u001b[0;32m    602\u001b[0m _validate_names(kwds\u001b[39m.\u001b[39mget(\u001b[39m\"\u001b[39m\u001b[39mnames\u001b[39m\u001b[39m\"\u001b[39m, \u001b[39mNone\u001b[39;00m))\n\u001b[0;32m    604\u001b[0m \u001b[39m# Create the parser.\u001b[39;00m\n\u001b[1;32m--> 605\u001b[0m parser \u001b[39m=\u001b[39m TextFileReader(filepath_or_buffer, \u001b[39m*\u001b[39m\u001b[39m*\u001b[39mkwds)\n\u001b[0;32m    607\u001b[0m \u001b[39mif\u001b[39;00m chunksize \u001b[39mor\u001b[39;00m iterator:\n\u001b[0;32m    608\u001b[0m     \u001b[39mreturn\u001b[39;00m parser\n",
      "File \u001b[1;32mc:\\Users\\luisg\\anaconda3\\envs\\geo_env\\lib\\site-packages\\pandas\\io\\parsers\\readers.py:1442\u001b[0m, in \u001b[0;36mTextFileReader.__init__\u001b[1;34m(self, f, engine, **kwds)\u001b[0m\n\u001b[0;32m   1439\u001b[0m     \u001b[39mself\u001b[39m\u001b[39m.\u001b[39moptions[\u001b[39m\"\u001b[39m\u001b[39mhas_index_names\u001b[39m\u001b[39m\"\u001b[39m] \u001b[39m=\u001b[39m kwds[\u001b[39m\"\u001b[39m\u001b[39mhas_index_names\u001b[39m\u001b[39m\"\u001b[39m]\n\u001b[0;32m   1441\u001b[0m \u001b[39mself\u001b[39m\u001b[39m.\u001b[39mhandles: IOHandles \u001b[39m|\u001b[39m \u001b[39mNone\u001b[39;00m \u001b[39m=\u001b[39m \u001b[39mNone\u001b[39;00m\n\u001b[1;32m-> 1442\u001b[0m \u001b[39mself\u001b[39m\u001b[39m.\u001b[39m_engine \u001b[39m=\u001b[39m \u001b[39mself\u001b[39;49m\u001b[39m.\u001b[39;49m_make_engine(f, \u001b[39mself\u001b[39;49m\u001b[39m.\u001b[39;49mengine)\n",
      "File \u001b[1;32mc:\\Users\\luisg\\anaconda3\\envs\\geo_env\\lib\\site-packages\\pandas\\io\\parsers\\readers.py:1729\u001b[0m, in \u001b[0;36mTextFileReader._make_engine\u001b[1;34m(self, f, engine)\u001b[0m\n\u001b[0;32m   1727\u001b[0m     is_text \u001b[39m=\u001b[39m \u001b[39mFalse\u001b[39;00m\n\u001b[0;32m   1728\u001b[0m     mode \u001b[39m=\u001b[39m \u001b[39m\"\u001b[39m\u001b[39mrb\u001b[39m\u001b[39m\"\u001b[39m\n\u001b[1;32m-> 1729\u001b[0m \u001b[39mself\u001b[39m\u001b[39m.\u001b[39mhandles \u001b[39m=\u001b[39m get_handle(\n\u001b[0;32m   1730\u001b[0m     f,\n\u001b[0;32m   1731\u001b[0m     mode,\n\u001b[0;32m   1732\u001b[0m     encoding\u001b[39m=\u001b[39;49m\u001b[39mself\u001b[39;49m\u001b[39m.\u001b[39;49moptions\u001b[39m.\u001b[39;49mget(\u001b[39m\"\u001b[39;49m\u001b[39mencoding\u001b[39;49m\u001b[39m\"\u001b[39;49m, \u001b[39mNone\u001b[39;49;00m),\n\u001b[0;32m   1733\u001b[0m     compression\u001b[39m=\u001b[39;49m\u001b[39mself\u001b[39;49m\u001b[39m.\u001b[39;49moptions\u001b[39m.\u001b[39;49mget(\u001b[39m\"\u001b[39;49m\u001b[39mcompression\u001b[39;49m\u001b[39m\"\u001b[39;49m, \u001b[39mNone\u001b[39;49;00m),\n\u001b[0;32m   1734\u001b[0m     memory_map\u001b[39m=\u001b[39;49m\u001b[39mself\u001b[39;49m\u001b[39m.\u001b[39;49moptions\u001b[39m.\u001b[39;49mget(\u001b[39m\"\u001b[39;49m\u001b[39mmemory_map\u001b[39;49m\u001b[39m\"\u001b[39;49m, \u001b[39mFalse\u001b[39;49;00m),\n\u001b[0;32m   1735\u001b[0m     is_text\u001b[39m=\u001b[39;49mis_text,\n\u001b[0;32m   1736\u001b[0m     errors\u001b[39m=\u001b[39;49m\u001b[39mself\u001b[39;49m\u001b[39m.\u001b[39;49moptions\u001b[39m.\u001b[39;49mget(\u001b[39m\"\u001b[39;49m\u001b[39mencoding_errors\u001b[39;49m\u001b[39m\"\u001b[39;49m, \u001b[39m\"\u001b[39;49m\u001b[39mstrict\u001b[39;49m\u001b[39m\"\u001b[39;49m),\n\u001b[0;32m   1737\u001b[0m     storage_options\u001b[39m=\u001b[39;49m\u001b[39mself\u001b[39;49m\u001b[39m.\u001b[39;49moptions\u001b[39m.\u001b[39;49mget(\u001b[39m\"\u001b[39;49m\u001b[39mstorage_options\u001b[39;49m\u001b[39m\"\u001b[39;49m, \u001b[39mNone\u001b[39;49;00m),\n\u001b[0;32m   1738\u001b[0m )\n\u001b[0;32m   1739\u001b[0m \u001b[39massert\u001b[39;00m \u001b[39mself\u001b[39m\u001b[39m.\u001b[39mhandles \u001b[39mis\u001b[39;00m \u001b[39mnot\u001b[39;00m \u001b[39mNone\u001b[39;00m\n\u001b[0;32m   1740\u001b[0m f \u001b[39m=\u001b[39m \u001b[39mself\u001b[39m\u001b[39m.\u001b[39mhandles\u001b[39m.\u001b[39mhandle\n",
      "File \u001b[1;32mc:\\Users\\luisg\\anaconda3\\envs\\geo_env\\lib\\site-packages\\pandas\\io\\common.py:857\u001b[0m, in \u001b[0;36mget_handle\u001b[1;34m(path_or_buf, mode, encoding, compression, memory_map, is_text, errors, storage_options)\u001b[0m\n\u001b[0;32m    852\u001b[0m \u001b[39melif\u001b[39;00m \u001b[39misinstance\u001b[39m(handle, \u001b[39mstr\u001b[39m):\n\u001b[0;32m    853\u001b[0m     \u001b[39m# Check whether the filename is to be opened in binary mode.\u001b[39;00m\n\u001b[0;32m    854\u001b[0m     \u001b[39m# Binary mode does not support 'encoding' and 'newline'.\u001b[39;00m\n\u001b[0;32m    855\u001b[0m     \u001b[39mif\u001b[39;00m ioargs\u001b[39m.\u001b[39mencoding \u001b[39mand\u001b[39;00m \u001b[39m\"\u001b[39m\u001b[39mb\u001b[39m\u001b[39m\"\u001b[39m \u001b[39mnot\u001b[39;00m \u001b[39min\u001b[39;00m ioargs\u001b[39m.\u001b[39mmode:\n\u001b[0;32m    856\u001b[0m         \u001b[39m# Encoding\u001b[39;00m\n\u001b[1;32m--> 857\u001b[0m         handle \u001b[39m=\u001b[39m \u001b[39mopen\u001b[39;49m(\n\u001b[0;32m    858\u001b[0m             handle,\n\u001b[0;32m    859\u001b[0m             ioargs\u001b[39m.\u001b[39;49mmode,\n\u001b[0;32m    860\u001b[0m             encoding\u001b[39m=\u001b[39;49mioargs\u001b[39m.\u001b[39;49mencoding,\n\u001b[0;32m    861\u001b[0m             errors\u001b[39m=\u001b[39;49merrors,\n\u001b[0;32m    862\u001b[0m             newline\u001b[39m=\u001b[39;49m\u001b[39m\"\u001b[39;49m\u001b[39m\"\u001b[39;49m,\n\u001b[0;32m    863\u001b[0m         )\n\u001b[0;32m    864\u001b[0m     \u001b[39melse\u001b[39;00m:\n\u001b[0;32m    865\u001b[0m         \u001b[39m# Binary mode\u001b[39;00m\n\u001b[0;32m    866\u001b[0m         handle \u001b[39m=\u001b[39m \u001b[39mopen\u001b[39m(handle, ioargs\u001b[39m.\u001b[39mmode)\n",
      "\u001b[1;31mFileNotFoundError\u001b[0m: [Errno 2] No such file or directory: 'Data\\\\inmet_stat_cerrado.csv'"
     ]
    }
   ],
   "source": [
    "#open r'Data\\Inmet\\df_INMET_monthly.csv'\n",
    "df_inmet = pd.read_csv(r'Data\\Inmet\\df_INMET_monthly.csv')\n",
    "df_inmet_stat = pd.read_csv('Data\\inmet_stat_cerrado.csv', index_col=0)\n",
    "gdf_inmet = gpd.GeoDataFrame(df_inmet_stat, geometry=gpd.points_from_xy(df_inmet_stat.Longitude, df_inmet_stat.Latitude))\n",
    "gdf_inmet = gdf_inmet.set_crs(epsg=4326).to_crs(regions.crs)\n",
    "gdf_inmet = gpd.sjoin(gdf_inmet, regions, how='left', op='within')\n",
    "#merge with df_inmet\n",
    "df_inmet = df_inmet.merge(gdf_inmet[['Code', 'region']], on='Code', how='left')\n",
    "df_inmet['Date'] = pd.to_datetime(df_inmet['Date'], format='%Y-%m-%d')\n"
   ]
  },
  {
   "attachments": {},
   "cell_type": "markdown",
   "metadata": {},
   "source": [
    "## year\n"
   ]
  },
  {
   "cell_type": "code",
   "execution_count": null,
   "metadata": {},
   "outputs": [
    {
     "name": "stderr",
     "output_type": "stream",
     "text": [
      "C:\\Users\\luisg\\AppData\\Local\\Temp\\ipykernel_26700\\2439234788.py:3: FutureWarning: The default value of numeric_only in DataFrameGroupBy.mean is deprecated. In a future version, numeric_only will default to False. Either specify numeric_only or select only columns which should be valid for the function.\n",
      "  df_inmet_all = df_inmet.groupby([df_inmet.Date.dt.year, 'Hour']).mean().reset_index().drop(columns='Code')\n"
     ]
    },
    {
     "data": {
      "text/plain": [
       "array([[<AxesSubplot: xlabel='Date'>, <AxesSubplot: xlabel='Date'>,\n",
       "        <AxesSubplot: xlabel='Date'>],\n",
       "       [<AxesSubplot: xlabel='Date'>, <AxesSubplot: xlabel='Date'>,\n",
       "        <AxesSubplot: xlabel='Date'>],\n",
       "       [<AxesSubplot: xlabel='Date'>, <AxesSubplot: xlabel='Date'>,\n",
       "        <AxesSubplot: xlabel='Date'>]], dtype=object)"
      ]
     },
     "execution_count": 73,
     "metadata": {},
     "output_type": "execute_result"
    },
    {
     "data": {
      "image/png": "[encoded data removed]",
      "text/plain": [
       "<Figure size 1500x1000 with 9 Axes>"
      ]
     },
     "metadata": {},
     "output_type": "display_data"
    }
   ],
   "source": [
    "#for Hour 0 and 12 plot each variable time series\n",
    "\n",
    "df_inmet_all = df_inmet.groupby([df_inmet.Date.dt.year, 'Hour']).mean().reset_index().drop(columns='Code')\n",
    "df_inmet_hour = df_inmet_all[df_inmet_all.Hour == 18]\n",
    "df_inmet_hour = df_inmet_hour.drop(columns='Hour')\n",
    "df_inmet_hour = df_inmet_hour.set_index('Date')\n",
    "df_inmet_hour.plot(subplots=True, figsize=(15, 10), layout=(3, 3), legend=False)\n"
   ]
  },
  {
   "attachments": {},
   "cell_type": "markdown",
   "metadata": {},
   "source": [
    "### stations\n"
   ]
  },
  {
   "cell_type": "code",
   "execution_count": null,
   "metadata": {},
   "outputs": [
    {
     "name": "stderr",
     "output_type": "stream",
     "text": [
      "C:\\Users\\luisg\\AppData\\Local\\Temp\\ipykernel_20664\\2238050952.py:1: FutureWarning: The default value of numeric_only in DataFrameGroupBy.mean is deprecated. In a future version, numeric_only will default to False. Either specify numeric_only or select only columns which should be valid for the function.\n",
      "  df_vpd_stat_year = df_inmet.groupby(['Code',df_inmet.Date.dt.year]).mean().reset_index()\n"
     ]
    }
   ],
   "source": [
    "df_vpd_stat_year = df_inmet.groupby(['Code',df_inmet.Date.dt.year]).mean().reset_index()\n",
    "gdf_inmet_mk = gdf_inmet[gdf_inmet.Code.isin(df_vpd_stat_year.Code.unique())][['Code', 'region', 'geometry']].copy()       "
   ]
  },
  {
   "cell_type": "code",
   "execution_count": null,
   "metadata": {},
   "outputs": [],
   "source": [
    "# do a mk test for each Code\n",
    "for code in df_vpd_stat_year.Code.unique():\n",
    "    test = mk.original_test(df_vpd_stat_year[df_vpd_stat_year.Code == code]['VPD'])\n",
    "    gdf_inmet_mk.loc[gdf_inmet_mk.Code == code, 'trend'+ '_' + 'anual'] = test.trend\n",
    "    gdf_inmet_mk.loc[gdf_inmet_mk.Code == code, 'p'+ '_' + 'anual'] = test.p\n",
    "    gdf_inmet_mk.loc[gdf_inmet_mk.Code == code, 'slope'+ '_' + 'anual'] = test.slope\n",
    "    gdf_inmet_mk.loc[gdf_inmet_mk.Code == code, 'intercept'+ '_' + 'anual'] = test.intercept\n"
   ]
  },
  {
   "cell_type": "code",
   "execution_count": null,
   "metadata": {},
   "outputs": [],
   "source": [
    "cmap = 'RdBu_r'\n"
   ]
  },
  {
   "cell_type": "code",
   "execution_count": null,
   "metadata": {},
   "outputs": [
    {
     "data": {
      "text/plain": [
       "<AxesSubplot: >"
      ]
     },
     "execution_count": 11,
     "metadata": {},
     "output_type": "execute_result"
    },
    {
     "data": {
      "image/png": "[encoded data removed]",
      "text/plain": [
       "<Figure size 1000x600 with 2 Axes>"
      ]
     },
     "metadata": {},
     "output_type": "display_data"
    }
   ],
   "source": [
    "from matplotlib.colors import TwoSlopeNorm\n",
    "fig , ax = plt.subplots(figsize=(10, 6))\n",
    "from matplotlib.colors import TwoSlopeNorm\n",
    "\n",
    "norm = TwoSlopeNorm(vmin=-0.1, vcenter=0, vmax=0.1)\n",
    "\n",
    "gdf_inmet_mk[gdf_inmet_mk.p_anual <= 0.05].plot(column='slope_anual', ax=ax, cmap=cmap,\n",
    " edgecolor='black', linewidth=0.5, marker='o', legend=True, norm=norm)\n",
    "\n",
    "gdf_inmet_mk[gdf_inmet_mk.p_anual > 0.05].plot(column='slope_anual', ax=ax, cmap=cmap,\n",
    " edgecolor='black', linewidth=0.5, marker='*',norm=norm)\n",
    "\n",
    "#shp_cerrado.plot(ax=ax, color='none', edgecolor='black', linewidth=0.5)\n",
    "#plot regions\n",
    "regions.plot(ax=ax, color='none', edgecolor='black', linewidth=0.5)"
   ]
  },
  {
   "cell_type": "code",
   "execution_count": null,
   "metadata": {},
   "outputs": [],
   "source": [
    "dff = (100 * gdf_inmet_mk.groupby('region').trend_anual.value_counts() / gdf_inmet_mk.groupby('region').size()).unstack().reset_index()\n",
    "dff_all = (100 * gdf_inmet_mk.trend_anual.value_counts() / gdf_inmet_mk.shape[0]).reset_index()\n",
    "# concat dff and dff_all\n",
    "dff_all['region'] = 'All'\n",
    "dff_all.columns = ['Trend', 'Percentage', 'region']\n",
    "dff_all = dff_all[['region', 'Trend', 'Percentage']]\n",
    "dff = dff.melt(id_vars=['region'],  var_name=['Trend'], value_name='Percentage')\n",
    "df_anual = pd.concat([dff, dff_all])\n",
    "df_anual['Period'] = 'Anual'\n"
   ]
  },
  {
   "attachments": {},
   "cell_type": "markdown",
   "metadata": {},
   "source": [
    "## seasonal\n"
   ]
  },
  {
   "attachments": {},
   "cell_type": "markdown",
   "metadata": {},
   "source": [
    "### stations\n"
   ]
  },
  {
   "cell_type": "code",
   "execution_count": null,
   "metadata": {},
   "outputs": [
    {
     "name": "stderr",
     "output_type": "stream",
     "text": [
      "C:\\Users\\luisg\\AppData\\Local\\Temp\\ipykernel_20664\\933235691.py:1: FutureWarning: The default value of numeric_only in DataFrameGroupBy.mean is deprecated. In a future version, numeric_only will default to False. Either specify numeric_only or select only columns which should be valid for the function.\n",
      "  df_inmet_stat_season = df_inmet.groupby(['Code',df_inmet.Date.dt.year, 'season']).mean().reset_index()\n"
     ]
    }
   ],
   "source": [
    "df_inmet_stat_season = df_inmet.groupby(['Code',df_inmet.Date.dt.year, 'season']).mean().reset_index() "
   ]
  },
  {
   "cell_type": "code",
   "execution_count": null,
   "metadata": {},
   "outputs": [],
   "source": [
    "# do a mk test for each season and each code\n",
    "for season in df_inmet_stat_season.season.unique():\n",
    "    for code in df_inmet_stat_season.Code.unique():\n",
    "        test = mk.original_test(df_inmet_stat_season[(df_inmet_stat_season.season == season) & (df_inmet_stat_season.Code == code)]['VPD'])\n",
    "        #create a column for each season\n",
    "        gdf_inmet_mk.loc[gdf_inmet_mk.Code == code, 'trend'+ '_' + season] = test.trend\n",
    "        gdf_inmet_mk.loc[gdf_inmet_mk.Code == code, 'p'+ '_' + season] = test.p\n",
    "        gdf_inmet_mk.loc[gdf_inmet_mk.Code == code, 'slope'+'_' +  season] = test.slope\n",
    "        gdf_inmet_mk.loc[gdf_inmet_mk.Code == code, 'intercept'+'_' +  season] = test.intercept"
   ]
  },
  {
   "cell_type": "code",
   "execution_count": null,
   "metadata": {},
   "outputs": [
    {
     "data": {
      "text/plain": [
       "no trend      52\n",
       "increasing    45\n",
       "decreasing     1\n",
       "Name: trend_SON, dtype: int64"
      ]
     },
     "execution_count": 18,
     "metadata": {},
     "output_type": "execute_result"
    }
   ],
   "source": [
    "#values cont for each column trend_season\n",
    "gdf_inmet_mk.trend_DJF.value_counts()\n",
    "gdf_inmet_mk.trend_MAM.value_counts()\n",
    "gdf_inmet_mk.trend_JJA.value_counts()\n",
    "gdf_inmet_mk.trend_SON.value_counts()"
   ]
  },
  {
   "attachments": {},
   "cell_type": "markdown",
   "metadata": {},
   "source": [
    "### df plots\n"
   ]
  },
  {
   "cell_type": "code",
   "execution_count": null,
   "metadata": {},
   "outputs": [],
   "source": [
    "dff = (100 * gdf_inmet_mk.groupby('region').trend_anual.value_counts() / gdf_inmet_mk.groupby('region').size()).unstack().reset_index()\n",
    "dff_all = (100 * gdf_inmet_mk.trend_anual.value_counts() / gdf_inmet_mk.shape[0]).reset_index()\n",
    "# concat dff and dff_all\n",
    "dff_all['region'] = 'All'\n",
    "dff_all.columns = ['Trend', 'Percentage', 'region']\n",
    "dff_all = dff_all[['region', 'Trend', 'Percentage']]\n",
    "dff = dff.melt(id_vars=['region'],  var_name=['Trend'], value_name='Percentage')\n",
    "df_anual = pd.concat([dff, dff_all])\n",
    "df_anual['Period'] = 'Anual'\n",
    "\n",
    "# save as the cell above but for each season\n",
    "dff = (100 * gdf_inmet_mk.groupby('region').trend_DJF.value_counts() / gdf_inmet_mk.groupby('region').size()).unstack().reset_index()\n",
    "dff_all = (100 * gdf_inmet_mk.trend_DJF.value_counts() / gdf_inmet_mk.shape[0]).reset_index()\n",
    "dff_all['region'] = 'All'\n",
    "dff_all.columns = ['Trend', 'Percentage', 'region']\n",
    "dff_all = dff_all[['region', 'Trend', 'Percentage']]\n",
    "dff = dff.melt(id_vars=['region'],  var_name=['Trend'], value_name='Percentage')\n",
    "df_DJF = pd.concat([dff, dff_all])\n",
    "df_DJF['Period'] = 'DJF'\n",
    "\n",
    "dff = (100 * gdf_inmet_mk.groupby('region').trend_MAM.value_counts() / gdf_inmet_mk.groupby('region').size()).unstack().reset_index()\n",
    "dff_all = (100 * gdf_inmet_mk.trend_MAM.value_counts() / gdf_inmet_mk.shape[0]).reset_index()\n",
    "dff_all['region'] = 'All'\n",
    "dff_all.columns = ['Trend', 'Percentage', 'region']\n",
    "dff_all = dff_all[['region', 'Trend', 'Percentage']]\n",
    "dff = dff.melt(id_vars=['region'],  var_name=['Trend'], value_name='Percentage')\n",
    "df_MAM = pd.concat([dff, dff_all])\n",
    "df_MAM['Period'] = 'MAM'\n",
    "\n",
    "dff = (100 * gdf_inmet_mk.groupby('region').trend_JJA.value_counts() / gdf_inmet_mk.groupby('region').size()).unstack().reset_index()\n",
    "dff_all = (100 * gdf_inmet_mk.trend_JJA.value_counts() / gdf_inmet_mk.shape[0]).reset_index()\n",
    "dff_all['region'] = 'All'\n",
    "dff_all.columns = ['Trend', 'Percentage', 'region']\n",
    "dff_all = dff_all[['region', 'Trend', 'Percentage']]\n",
    "dff = dff.melt(id_vars=['region'],  var_name=['Trend'], value_name='Percentage')\n",
    "df_JJA = pd.concat([dff, dff_all])\n",
    "df_JJA['Period'] = 'JJA'\n",
    "\n",
    "dff = (100 * gdf_inmet_mk.groupby('region').trend_SON.value_counts() / gdf_inmet_mk.groupby('region').size()).unstack().reset_index()\n",
    "dff_all = (100 * gdf_inmet_mk.trend_SON.value_counts() / gdf_inmet_mk.shape[0]).reset_index()\n",
    "dff_all['region'] = 'All'\n",
    "dff_all.columns = ['Trend', 'Percentage', 'region']\n",
    "dff_all = dff_all[['region', 'Trend', 'Percentage']]\n",
    "dff = dff.melt(id_vars=['region'],  var_name=['Trend'], value_name='Percentage')\n",
    "df_SON = pd.concat([dff, dff_all])\n",
    "df_SON['Period'] = 'SON'\n",
    "#concat all seasons\n",
    "\n",
    "df_trends_vpd = pd.concat([df_anual, df_DJF, df_MAM, df_JJA, df_SON]).reset_index(drop=True)\n"
   ]
  },
  {
   "cell_type": "code",
   "execution_count": null,
   "metadata": {},
   "outputs": [],
   "source": [
    "#count by region and season how many codes have a negative slope\n",
    "dff = (100 * gdf_inmet_mk[gdf_inmet_mk.slope_anual < 0].groupby('region').size() / gdf_inmet_mk.groupby('region').size()).reset_index().rename(columns={0:'Negative slope'})\n",
    "dff_all = (100 * gdf_inmet_mk[gdf_inmet_mk.slope_anual < 0].shape[0] / gdf_inmet_mk.shape[0])#.reset_index().rename(columns={0:'Negative slope'})\n",
    "dff_all = pd.DataFrame({'region': ['All'], 'Negative slope': [dff_all]})\n",
    "dff = pd.concat([dff, dff_all])\n",
    "dff['Positive slope'] = 100 - dff['Negative slope']\n",
    "dff_anual = dff.melt(id_vars=['region'],  var_name=['Trend'], value_name='Percentage')\n",
    "dff_anual['Period'] = 'Anual'\n",
    "\n",
    "#now for each season\n",
    "dff = (100 * gdf_inmet_mk[gdf_inmet_mk.slope_DJF < 0].groupby('region').size() / gdf_inmet_mk.groupby('region').size()).reset_index().rename(columns={0:'Negative slope'})\n",
    "dff_all = (100 * gdf_inmet_mk[gdf_inmet_mk.slope_DJF < 0].shape[0] / gdf_inmet_mk.shape[0])#.reset_index().rename(columns={0:'Negative slope'})\n",
    "dff_all = pd.DataFrame({'region': ['All'], 'Negative slope': [dff_all]})\n",
    "dff = pd.concat([dff, dff_all])\n",
    "dff['Positive slope'] = 100 - dff['Negative slope']\n",
    "dff_DJF = dff.melt(id_vars=['region'],  var_name=['Trend'], value_name='Percentage')\n",
    "dff_DJF['Period'] = 'DJF'\n",
    "\n",
    "dff = (100 * gdf_inmet_mk[gdf_inmet_mk.slope_MAM < 0].groupby('region').size() / gdf_inmet_mk.groupby('region').size()).reset_index().rename(columns={0:'Negative slope'})\n",
    "dff_all = (100 * gdf_inmet_mk[gdf_inmet_mk.slope_MAM < 0].shape[0] / gdf_inmet_mk.shape[0])#.reset_index().rename(columns={0:'Negative slope'})\n",
    "dff_all = pd.DataFrame({'region': ['All'], 'Negative slope': [dff_all]})\n",
    "dff = pd.concat([dff, dff_all])\n",
    "dff['Positive slope'] = 100 - dff['Negative slope']\n",
    "dff_MAM = dff.melt(id_vars=['region'],  var_name=['Trend'], value_name='Percentage')\n",
    "dff_MAM['Period'] = 'MAM'\n",
    "\n",
    "dff = (100 * gdf_inmet_mk[gdf_inmet_mk.slope_JJA < 0].groupby('region').size() / gdf_inmet_mk.groupby('region').size()).reset_index().rename(columns={0:'Negative slope'})\n",
    "dff_all = (100 * gdf_inmet_mk[gdf_inmet_mk.slope_JJA < 0].shape[0] / gdf_inmet_mk.shape[0])#.reset_index().rename(columns={0:'Negative slope'})\n",
    "dff_all = pd.DataFrame({'region': ['All'], 'Negative slope': [dff_all]})\n",
    "dff = pd.concat([dff, dff_all])\n",
    "dff['Positive slope'] = 100 - dff['Negative slope']\n",
    "dff_JJA = dff.melt(id_vars=['region'],  var_name=['Trend'], value_name='Percentage')\n",
    "dff_JJA['Period'] = 'JJA'\n",
    "\n",
    "dff = (100 * gdf_inmet_mk[gdf_inmet_mk.slope_SON < 0].groupby('region').size() / gdf_inmet_mk.groupby('region').size()).reset_index().rename(columns={0:'Negative slope'})\n",
    "dff_all = (100 * gdf_inmet_mk[gdf_inmet_mk.slope_SON < 0].shape[0] / gdf_inmet_mk.shape[0])#.reset_index().rename(columns={0:'Negative slope'})\n",
    "dff_all = pd.DataFrame({'region': ['All'], 'Negative slope': [dff_all]})\n",
    "dff = pd.concat([dff, dff_all])\n",
    "dff['Positive slope'] = 100 - dff['Negative slope']\n",
    "dff_SON = dff.melt(id_vars=['region'],  var_name=['Trend'], value_name='Percentage')\n",
    "dff_SON['Period'] = 'SON'\n",
    "\n",
    "#concat all seasons\n",
    "df_slopes_vpd = pd.concat([dff_anual, dff_DJF, dff_MAM, dff_JJA, dff_SON]).reset_index(drop=True)\n"
   ]
  },
  {
   "cell_type": "code",
   "execution_count": null,
   "metadata": {},
   "outputs": [],
   "source": [
    "#df_trends_vpd.to_csv(r'Data\\tendency\\df_trends_vpd.csv')\n",
    "#df_slopes_vpd.to_csv(r'Data\\tendency\\df_slopes_vpd.csv')\n",
    "gdf_inmet_mk.to_file(r'Data\\tendency\\gdf_mk_vpd.geojson', driver='GeoJSON')"
   ]
  },
  {
   "attachments": {},
   "cell_type": "markdown",
   "metadata": {},
   "source": [
    "## all variables\n"
   ]
  },
  {
   "cell_type": "code",
   "execution_count": null,
   "metadata": {},
   "outputs": [],
   "source": [
    "gdf_mk_vpd = gpd.read_file(r'Data\\tendency\\gdf_mk_vpd.geojson')\n"
   ]
  },
  {
   "cell_type": "code",
   "execution_count": null,
   "metadata": {},
   "outputs": [
    {
     "ename": "NameError",
     "evalue": "name 'df_inmet' is not defined",
     "output_type": "error",
     "traceback": [
      "\u001b[1;31m---------------------------------------------------------------------------\u001b[0m",
      "\u001b[1;31mNameError\u001b[0m                                 Traceback (most recent call last)",
      "\u001b[1;32md:\\GU\\IC\\Scripts\\2.6_tendency.ipynb Cell 60\u001b[0m line \u001b[0;36m2\n\u001b[0;32m      <a href='vscode-notebook-cell:/d%3A/GU/IC/Scripts/2.6_tendency.ipynb#Y113sZmlsZQ%3D%3D?line=0'>1</a>\u001b[0m \u001b[39m#year\u001b[39;00m\n\u001b[1;32m----> <a href='vscode-notebook-cell:/d%3A/GU/IC/Scripts/2.6_tendency.ipynb#Y113sZmlsZQ%3D%3D?line=1'>2</a>\u001b[0m df_vpd_stat_year \u001b[39m=\u001b[39m df_inmet\u001b[39m.\u001b[39mgroupby([\u001b[39m'\u001b[39m\u001b[39mCode\u001b[39m\u001b[39m'\u001b[39m,df_inmet\u001b[39m.\u001b[39mDate\u001b[39m.\u001b[39mdt\u001b[39m.\u001b[39myear])\u001b[39m.\u001b[39mmean()\u001b[39m.\u001b[39mreset_index()\n\u001b[0;32m      <a href='vscode-notebook-cell:/d%3A/GU/IC/Scripts/2.6_tendency.ipynb#Y113sZmlsZQ%3D%3D?line=4'>5</a>\u001b[0m \u001b[39mfor\u001b[39;00m var \u001b[39min\u001b[39;00m [\u001b[39m'\u001b[39m\u001b[39mTemp_min\u001b[39m\u001b[39m'\u001b[39m, \u001b[39m'\u001b[39m\u001b[39mRH_min\u001b[39m\u001b[39m'\u001b[39m, \u001b[39m'\u001b[39m\u001b[39mTemp_max\u001b[39m\u001b[39m'\u001b[39m, \u001b[39m'\u001b[39m\u001b[39mRH_max\u001b[39m\u001b[39m'\u001b[39m]:\n\u001b[0;32m      <a href='vscode-notebook-cell:/d%3A/GU/IC/Scripts/2.6_tendency.ipynb#Y113sZmlsZQ%3D%3D?line=5'>6</a>\u001b[0m     \u001b[39mfor\u001b[39;00m code \u001b[39min\u001b[39;00m df_vpd_stat_year\u001b[39m.\u001b[39mCode\u001b[39m.\u001b[39munique():\n",
      "\u001b[1;31mNameError\u001b[0m: name 'df_inmet' is not defined"
     ]
    }
   ],
   "source": [
    "#year\n",
    "df_vpd_stat_year = df_inmet.groupby(['Code',df_inmet.Date.dt.year]).mean().reset_index()\n",
    "\n",
    "\n",
    "for var in ['Temp_min', 'RH_min', 'Temp_max', 'RH_max']:\n",
    "    for code in df_vpd_stat_year.Code.unique():\n",
    "        test = mk.original_test(df_vpd_stat_year[df_vpd_stat_year.Code == code][var])\n",
    "        #gdf_mk_vpd.loc[gdf_mk_vpd.Code == code, 'trend'+ '_' + 'anual'] = test.trend\n",
    "        gdf_mk_vpd.loc[gdf_mk_vpd.Code == code, 'p' + '_' + var+ '_'+ 'anual'] = test.p\n",
    "        gdf_mk_vpd.loc[gdf_mk_vpd.Code == code, 'slope' + '_' + var + '_'+ 'anual'] = test.slope\n",
    "        gdf_mk_vpd.loc[gdf_mk_vpd.Code == code, 'intercept' + '_' + var+ '_'+ 'anual'] = test.intercept        "
   ]
  },
  {
   "cell_type": "code",
   "execution_count": null,
   "metadata": {},
   "outputs": [
    {
     "name": "stderr",
     "output_type": "stream",
     "text": [
      "C:\\Users\\luisg\\AppData\\Local\\Temp\\ipykernel_5656\\3557515208.py:2: FutureWarning: The default value of numeric_only in DataFrameGroupBy.mean is deprecated. In a future version, numeric_only will default to False. Either specify numeric_only or select only columns which should be valid for the function.\n",
      "  df_inmet_stat_season = df_inmet.groupby(['Code',df_inmet.Date.dt.year, 'season']).mean().reset_index()\n"
     ]
    }
   ],
   "source": [
    "df_inmet['season'] = df_inmet.Date.dt.month.apply(lambda x: 'DJF' if x in [12, 1, 2] else ('MAM' if x in [3, 4, 5] else ('JJA' if x in [6, 7, 8] else 'SON')))\n",
    "df_inmet_stat_season = df_inmet.groupby(['Code',df_inmet.Date.dt.year, 'season']).mean().reset_index() "
   ]
  },
  {
   "cell_type": "code",
   "execution_count": null,
   "metadata": {},
   "outputs": [],
   "source": [
    "# do a mk test for each season and each code\n",
    "for season in df_inmet_stat_season.season.unique():\n",
    "    dff = df_inmet_stat_season[df_inmet_stat_season.season == season].copy()\n",
    "    for var in ['Temp_min', 'RH_min', 'Temp_max', 'RH_max']:\n",
    "        for code in dff.Code.unique():\n",
    "            test = mk.original_test(dff[dff.Code == code][var])\n",
    "            #gdf_mk_vpd.loc[gdf_mk_vpd.Code == code, 'trend'+ '_' + season] = test.trend\n",
    "            gdf_mk_vpd.loc[gdf_mk_vpd.Code == code, 'p' + '_' + var+ '_'+ season] = test.p\n",
    "            gdf_mk_vpd.loc[gdf_mk_vpd.Code == code, 'slope' + '_' + var + '_'+ season] = test.slope\n",
    "            gdf_mk_vpd.loc[gdf_mk_vpd.Code == code, 'intercept' + '_' + var+ '_'+ season] = test.intercept    "
   ]
  },
  {
   "attachments": {},
   "cell_type": "markdown",
   "metadata": {},
   "source": [
    "# percentages\n"
   ]
  },
  {
   "cell_type": "code",
   "execution_count": 22,
   "metadata": {},
   "outputs": [],
   "source": [
    "#open files of pr\n",
    "df_slopes_pr = pd.read_csv(r'Data\\tendency\\df_slopes_pr.csv', index_col=0)\n",
    "df_trends_pr = pd.read_csv(r'Data\\tendency\\df_trends_pr.csv', index_col=0)\n",
    "gdf_mk_pr_ent = gpd.read_file(r'Data\\tendency\\gdf_mk_pr_ent.geojson')\n",
    "#ent\n",
    "df_slopes_ent = pd.read_csv(r'Data\\tendency\\df_slopes_ent.csv', index_col=0)\n",
    "df_trends_ent = pd.read_csv(r'Data\\tendency\\df_trends_ent.csv', index_col=0)\n",
    "#vpd\n",
    "df_slopes_vpd = pd.read_csv(r'Data\\tendency\\df_slopes_vpd.csv', index_col=0)\n",
    "df_trends_vpd = pd.read_csv(r'Data\\tendency\\df_trends_vpd.csv', index_col=0)\n",
    "\n",
    "gdf_inmet_clim = gpd.read_file(r'Data\\Inmet\\gdf_inmet_clim.geojson')"
   ]
  },
  {
   "cell_type": "code",
   "execution_count": 26,
   "metadata": {},
   "outputs": [],
   "source": [
    "df_inmet = pd.read_csv(r'Data\\Inmet\\df_INMET_monthly.csv')\n"
   ]
  },
  {
   "attachments": {},
   "cell_type": "markdown",
   "metadata": {},
   "source": [
    "## vpd\n"
   ]
  },
  {
   "cell_type": "code",
   "execution_count": 27,
   "metadata": {},
   "outputs": [],
   "source": [
    "#get only rows with size bigger than 180\n",
    "gdf_inmet_clim = gdf_inmet_clim[gdf_inmet_clim['size'] > 180].reset_index(drop=True)\n",
    "#filter gdf_mk_vpd with codes\n",
    "gdf_mk_vpd = gdf_mk_vpd[gdf_mk_vpd['Code'].isin(gdf_inmet_clim['Code'])].reset_index(drop=True)\n",
    "#filter df_inmet\n",
    "df_inmet = df_inmet[df_inmet['Code'].isin(gdf_inmet_clim['Code'])].reset_index(drop=True)"
   ]
  },
  {
   "cell_type": "code",
   "execution_count": 31,
   "metadata": {},
   "outputs": [],
   "source": [
    "df_inmet['Date'] = pd.to_datetime(df_inmet['Date'], format='%Y-%m-%d')"
   ]
  },
  {
   "cell_type": "code",
   "execution_count": 32,
   "metadata": {},
   "outputs": [
    {
     "name": "stderr",
     "output_type": "stream",
     "text": [
      "C:\\Users\\luisg\\AppData\\Local\\Temp\\ipykernel_21224\\791389391.py:2: FutureWarning: The default value of numeric_only in DataFrameGroupBy.mean is deprecated. In a future version, numeric_only will default to False. Either specify numeric_only or select only columns which should be valid for the function.\n",
      "  df_inmet_first = df_inmet.groupby(['Code', df_inmet.Date.dt.year]).mean().reset_index().sort_values(['Code', 'Date']).groupby('Code').first().reset_index()\n"
     ]
    }
   ],
   "source": [
    "#take the mean vpd for the first year for each code\n",
    "df_inmet_first = df_inmet.groupby(['Code', df_inmet.Date.dt.year]).mean().reset_index().sort_values(['Code', 'Date']).groupby('Code').first().reset_index()\n",
    "gdf_mk_vpd['VPD_ratio_anual'] = (gdf_mk_vpd['slope_anual'] / gdf_mk_vpd['intercept_anual'] * 100)\n",
    "gdf_mk_vpd['VPD_anom_anual'] = (gdf_mk_vpd['slope_anual']*30)"
   ]
  },
  {
   "cell_type": "code",
   "execution_count": 33,
   "metadata": {},
   "outputs": [
    {
     "name": "stderr",
     "output_type": "stream",
     "text": [
      "C:\\Users\\luisg\\AppData\\Local\\Temp\\ipykernel_21224\\3559855787.py:2: FutureWarning: The default value of numeric_only in DataFrameGroupBy.mean is deprecated. In a future version, numeric_only will default to False. Either specify numeric_only or select only columns which should be valid for the function.\n",
      "  df_inmet_sea = df_inmet.groupby(['Code',df_inmet.Date.dt.year, 'season']).mean().reset_index()\n"
     ]
    }
   ],
   "source": [
    "df_inmet['season'] = df_inmet.Date.dt.month.apply(lambda x: 'DJF' if x in [12, 1, 2] else ('MAM' if x in [3, 4, 5] else ('JJA' if x in [6, 7, 8] else 'SON')))\n",
    "df_inmet_sea = df_inmet.groupby(['Code',df_inmet.Date.dt.year, 'season']).mean().reset_index()\n",
    "df_inmet_sea_first = df_inmet_sea.drop_duplicates(subset=['Code', 'season'])\n",
    "for sea in ['DJF' , 'MAM', 'JJA', 'SON']:\n",
    "    df_season = df_inmet_sea_first[df_inmet_sea_first['season'] == sea].reset_index(drop=True)\n",
    "    gdf_mk_vpd['VPD_ratio_' + sea] = (gdf_mk_vpd['slope_' + sea] / gdf_mk_vpd['intercept_' + sea] * 100)\n",
    "    gdf_mk_vpd['VPD_anom_' + sea] = (gdf_mk_vpd['slope_' + sea]*30)"
   ]
  },
  {
   "attachments": {},
   "cell_type": "markdown",
   "metadata": {},
   "source": [
    "### RH TEMP"
   ]
  },
  {
   "cell_type": "code",
   "execution_count": 34,
   "metadata": {},
   "outputs": [],
   "source": [
    "for var in ['Temp_min', 'RH_min', 'Temp_max', 'RH_max']:\n",
    "    for sea in ['anual', 'DJF', 'MAM', 'JJA', 'SON']:\n",
    "        gdf_mk_vpd['ratio_'+  var +'_' + sea] = (gdf_mk_vpd['slope_' +  var +'_' + sea] / gdf_mk_vpd['intercept_'+  var +'_' + sea] * 100)\n",
    "        gdf_mk_vpd['anom_'+  var +'_' + sea] = (gdf_mk_vpd['slope_'+  var +'_' + sea]*30)\n"
   ]
  },
  {
   "attachments": {},
   "cell_type": "markdown",
   "metadata": {},
   "source": [
    "## pr\n"
   ]
  },
  {
   "cell_type": "code",
   "execution_count": 35,
   "metadata": {},
   "outputs": [
    {
     "name": "stderr",
     "output_type": "stream",
     "text": [
      "C:\\Users\\luisg\\AppData\\Local\\Temp\\ipykernel_21224\\3259850999.py:1: FutureWarning: The default value of numeric_only in DataFrameGroupBy.sum is deprecated. In a future version, numeric_only will default to False. Either specify numeric_only or select only columns which should be valid for the function.\n",
      "  df_pr_first = df_cerrado.groupby(['Code',df_cerrado.Date.dt.year]).sum().reset_index().sort_values(['Code', 'Date']).groupby('Code').first().reset_index()\n"
     ]
    }
   ],
   "source": [
    "df_pr_first = df_cerrado.groupby(['Code',df_cerrado.Date.dt.year]).sum().reset_index().sort_values(['Code', 'Date']).groupby('Code').first().reset_index()  \n",
    "gdf_mk_pr_ent['pr_ratio_anual'] = (gdf_mk_pr_ent['slope_anual'] / gdf_mk_pr_ent['intercept_anual'] * 100)\n",
    "gdf_mk_pr_ent['pr_anom_anual'] = (gdf_mk_pr_ent['slope_anual']*30)"
   ]
  },
  {
   "cell_type": "code",
   "execution_count": 36,
   "metadata": {},
   "outputs": [
    {
     "name": "stderr",
     "output_type": "stream",
     "text": [
      "C:\\Users\\luisg\\AppData\\Local\\Temp\\ipykernel_21224\\2459628012.py:2: FutureWarning: The default value of numeric_only in DataFrameGroupBy.mean is deprecated. In a future version, numeric_only will default to False. Either specify numeric_only or select only columns which should be valid for the function.\n",
      "  df_cerrado_sea = df_cerrado.groupby(['Code',df_cerrado.Date.dt.year, 'season']).mean().reset_index()\n"
     ]
    }
   ],
   "source": [
    "df_cerrado['season'] = df_cerrado.Date.dt.month.apply(lambda x: 'DJF' if x in [12, 1, 2] else ('MAM' if x in [3, 4, 5] else ('JJA' if x in [6, 7, 8] else 'SON')))\n",
    "df_cerrado_sea = df_cerrado.groupby(['Code',df_cerrado.Date.dt.year, 'season']).mean().reset_index()\n",
    "df_cerrado_sea_first = df_cerrado_sea.drop_duplicates(subset=['Code', 'season'])\n",
    "for sea in ['DJF' , 'MAM', 'JJA', 'SON']:\n",
    "    df_season = df_cerrado_sea_first[df_cerrado_sea_first['season'] == sea].reset_index(drop=True)\n",
    "    gdf_mk_pr_ent['pr_ratio_' + sea] = (gdf_mk_pr_ent['slope_' + sea] / gdf_mk_pr_ent['intercept_' + sea] * 100)\n",
    "    gdf_mk_pr_ent['pr_anom_' + sea] = (gdf_mk_pr_ent['slope_' + sea]*30)"
   ]
  },
  {
   "attachments": {},
   "cell_type": "markdown",
   "metadata": {},
   "source": [
    "## entropy\n"
   ]
  },
  {
   "cell_type": "code",
   "execution_count": 37,
   "metadata": {},
   "outputs": [
    {
     "name": "stderr",
     "output_type": "stream",
     "text": [
      "C:\\Users\\luisg\\AppData\\Local\\Temp\\ipykernel_21224\\2280703330.py:3: FutureWarning: Not prepending group keys to the result index of transform-like apply. In the future, the group keys will be included in the index, regardless of whether the applied function returns a like-indexed object.\n",
      "To preserve the previous behavior, use\n",
      "\n",
      "\t>>> .groupby(..., group_keys=False)\n",
      "\n",
      "To adopt the future behavior and silence this warning, use \n",
      "\n",
      "\t>>> .groupby(..., group_keys=True)\n",
      "  df_cerrado_ent['ratio'] = df_cerrado_ent.groupby(['Code', df_cerrado_ent.Date.dt.year])['Total'].apply(lambda x: x/x.sum()).rename('ratio').reset_index()['ratio']\n"
     ]
    }
   ],
   "source": [
    "df_cerrado_ent = df_cerrado.sort_values(by=['Code', 'Date']).reset_index(drop=True)\n",
    "df_cerrado_ent.groupby(['Code', df_cerrado_ent.Date.dt.year]).mean(numeric_only=True)\n",
    "df_cerrado_ent['ratio'] = df_cerrado_ent.groupby(['Code', df_cerrado_ent.Date.dt.year])['Total'].apply(lambda x: x/x.sum()).rename('ratio').reset_index()['ratio']\n",
    "uniform = np.zeros(12)\n",
    "uniform[:] = 1/12\n",
    "df_cerrado_ent_all = df_cerrado_ent.groupby(['Code', df_cerrado_ent.Date.dt.year])['ratio'].apply(lambda x: entropy(x, qk=uniform,base=2)).reset_index().rename({'ratio': 'Entropy'},  axis='columns')"
   ]
  },
  {
   "cell_type": "code",
   "execution_count": 38,
   "metadata": {},
   "outputs": [],
   "source": [
    "df_ent_first = df_cerrado_ent_all.groupby('Code').first().reset_index()  \n",
    "gdf_mk_pr_ent['ent_ratio'] = (gdf_mk_pr_ent['slope_ent'] / gdf_mk_pr_ent['intercept_ent'] * 100)\n",
    "gdf_mk_pr_ent['ent_anom'] = (gdf_mk_pr_ent['slope_ent']*30)"
   ]
  },
  {
   "attachments": {},
   "cell_type": "markdown",
   "metadata": {},
   "source": [
    "## plots\n"
   ]
  },
  {
   "cell_type": "code",
   "execution_count": 39,
   "metadata": {},
   "outputs": [],
   "source": [
    "from cmcrameri import cm\n",
    "import cmasher as cmr\n",
    "import matplotlib as mpl\n",
    "from cartopy.mpl.gridliner import LONGITUDE_FORMATTER, LATITUDE_FORMATTER\n",
    "import matplotlib.ticker as mticker\n",
    "from mpl_toolkits.axes_grid1 import make_axes_locatable"
   ]
  },
  {
   "cell_type": "code",
   "execution_count": 40,
   "metadata": {},
   "outputs": [],
   "source": [
    "gdf_mk_pr_ent.to_file(r'D:\\GU\\IC\\Scripts\\Data\\tendency\\gdf_mk_pr_ent.geojson', driver='GeoJSON')\n",
    "gdf_mk_vpd.to_file(r'D:\\GU\\IC\\Scripts\\Data\\tendency\\gdf_mk_vpd.geojson', driver='GeoJSON')"
   ]
  },
  {
   "cell_type": "code",
   "execution_count": 41,
   "metadata": {},
   "outputs": [
    {
     "data": {
      "text/html": [
       "<div>\n",
       "<style scoped>\n",
       "    .dataframe tbody tr th:only-of-type {\n",
       "        vertical-align: middle;\n",
       "    }\n",
       "\n",
       "    .dataframe tbody tr th {\n",
       "        vertical-align: top;\n",
       "    }\n",
       "\n",
       "    .dataframe thead th {\n",
       "        text-align: right;\n",
       "    }\n",
       "</style>\n",
       "<table border=\"1\" class=\"dataframe\">\n",
       "  <thead>\n",
       "    <tr style=\"text-align: right;\">\n",
       "      <th></th>\n",
       "      <th>Code</th>\n",
       "      <th>Name</th>\n",
       "      <th>Latitude</th>\n",
       "      <th>Longitude</th>\n",
       "      <th>Altitude</th>\n",
       "      <th>region</th>\n",
       "      <th>trend_DJF</th>\n",
       "      <th>p_DJF</th>\n",
       "      <th>slope_DJF</th>\n",
       "      <th>trend_JJA</th>\n",
       "      <th>...</th>\n",
       "      <th>pr_anom_DJF</th>\n",
       "      <th>pr_ratio_MAM</th>\n",
       "      <th>pr_anom_MAM</th>\n",
       "      <th>pr_ratio_JJA</th>\n",
       "      <th>pr_anom_JJA</th>\n",
       "      <th>pr_ratio_SON</th>\n",
       "      <th>pr_anom_SON</th>\n",
       "      <th>ent_ratio</th>\n",
       "      <th>ent_anom</th>\n",
       "      <th>geometry</th>\n",
       "    </tr>\n",
       "  </thead>\n",
       "  <tbody>\n",
       "    <tr>\n",
       "      <th>0</th>\n",
       "      <td>343001</td>\n",
       "      <td>IGUARÁ</td>\n",
       "      <td>-3.5536</td>\n",
       "      <td>-43.8736</td>\n",
       "      <td>158.0</td>\n",
       "      <td>Central</td>\n",
       "      <td>no trend</td>\n",
       "      <td>0.775294</td>\n",
       "      <td>-0.648889</td>\n",
       "      <td>no trend</td>\n",
       "      <td>...</td>\n",
       "      <td>-19.466667</td>\n",
       "      <td>0.417750</td>\n",
       "      <td>34.357143</td>\n",
       "      <td>-0.201467</td>\n",
       "      <td>-1.729013</td>\n",
       "      <td>-0.749808</td>\n",
       "      <td>-3.633345</td>\n",
       "      <td>0.301373</td>\n",
       "      <td>0.067536</td>\n",
       "      <td>POINT (-43.87360 -3.55360)</td>\n",
       "    </tr>\n",
       "    <tr>\n",
       "      <th>1</th>\n",
       "      <td>343003</td>\n",
       "      <td>NINA RODRIGUES</td>\n",
       "      <td>-3.4594</td>\n",
       "      <td>-43.8989</td>\n",
       "      <td>112.0</td>\n",
       "      <td>Central</td>\n",
       "      <td>no trend</td>\n",
       "      <td>0.721226</td>\n",
       "      <td>-0.536667</td>\n",
       "      <td>no trend</td>\n",
       "      <td>...</td>\n",
       "      <td>-16.100000</td>\n",
       "      <td>0.561339</td>\n",
       "      <td>45.809524</td>\n",
       "      <td>0.472268</td>\n",
       "      <td>4.180632</td>\n",
       "      <td>-2.060078</td>\n",
       "      <td>-15.117137</td>\n",
       "      <td>0.498935</td>\n",
       "      <td>0.105087</td>\n",
       "      <td>POINT (-43.89890 -3.45940)</td>\n",
       "    </tr>\n",
       "    <tr>\n",
       "      <th>2</th>\n",
       "      <td>344004</td>\n",
       "      <td>CANTANHEDE</td>\n",
       "      <td>-3.6325</td>\n",
       "      <td>-44.3764</td>\n",
       "      <td>31.0</td>\n",
       "      <td>Central</td>\n",
       "      <td>no trend</td>\n",
       "      <td>0.802762</td>\n",
       "      <td>0.395238</td>\n",
       "      <td>no trend</td>\n",
       "      <td>...</td>\n",
       "      <td>11.857143</td>\n",
       "      <td>0.640978</td>\n",
       "      <td>53.222222</td>\n",
       "      <td>-1.415406</td>\n",
       "      <td>-15.646650</td>\n",
       "      <td>-1.006915</td>\n",
       "      <td>-8.566139</td>\n",
       "      <td>0.877524</td>\n",
       "      <td>0.170943</td>\n",
       "      <td>POINT (-44.37640 -3.63250)</td>\n",
       "    </tr>\n",
       "    <tr>\n",
       "      <th>3</th>\n",
       "      <td>344007</td>\n",
       "      <td>PERITORÓ II</td>\n",
       "      <td>-3.7097</td>\n",
       "      <td>-44.2933</td>\n",
       "      <td>145.0</td>\n",
       "      <td>Central</td>\n",
       "      <td>no trend</td>\n",
       "      <td>0.721226</td>\n",
       "      <td>0.522222</td>\n",
       "      <td>no trend</td>\n",
       "      <td>...</td>\n",
       "      <td>15.666667</td>\n",
       "      <td>0.380067</td>\n",
       "      <td>31.893527</td>\n",
       "      <td>-1.009091</td>\n",
       "      <td>-11.551418</td>\n",
       "      <td>-1.237614</td>\n",
       "      <td>-11.763052</td>\n",
       "      <td>0.890013</td>\n",
       "      <td>0.169976</td>\n",
       "      <td>POINT (-44.29330 -3.70970)</td>\n",
       "    </tr>\n",
       "    <tr>\n",
       "      <th>4</th>\n",
       "      <td>344008</td>\n",
       "      <td>PEDRAS</td>\n",
       "      <td>-3.9436</td>\n",
       "      <td>-44.0175</td>\n",
       "      <td>182.0</td>\n",
       "      <td>Central</td>\n",
       "      <td>no trend</td>\n",
       "      <td>0.401659</td>\n",
       "      <td>0.791964</td>\n",
       "      <td>no trend</td>\n",
       "      <td>...</td>\n",
       "      <td>23.758925</td>\n",
       "      <td>0.407646</td>\n",
       "      <td>35.142857</td>\n",
       "      <td>0.577165</td>\n",
       "      <td>3.638373</td>\n",
       "      <td>-1.123336</td>\n",
       "      <td>-7.063969</td>\n",
       "      <td>-0.121577</td>\n",
       "      <td>-0.031573</td>\n",
       "      <td>POINT (-44.01750 -3.94360)</td>\n",
       "    </tr>\n",
       "    <tr>\n",
       "      <th>...</th>\n",
       "      <td>...</td>\n",
       "      <td>...</td>\n",
       "      <td>...</td>\n",
       "      <td>...</td>\n",
       "      <td>...</td>\n",
       "      <td>...</td>\n",
       "      <td>...</td>\n",
       "      <td>...</td>\n",
       "      <td>...</td>\n",
       "      <td>...</td>\n",
       "      <td>...</td>\n",
       "      <td>...</td>\n",
       "      <td>...</td>\n",
       "      <td>...</td>\n",
       "      <td>...</td>\n",
       "      <td>...</td>\n",
       "      <td>...</td>\n",
       "      <td>...</td>\n",
       "      <td>...</td>\n",
       "      <td>...</td>\n",
       "      <td>...</td>\n",
       "    </tr>\n",
       "    <tr>\n",
       "      <th>473</th>\n",
       "      <td>2449044</td>\n",
       "      <td>SENGES</td>\n",
       "      <td>-24.1000</td>\n",
       "      <td>-49.4667</td>\n",
       "      <td>650.0</td>\n",
       "      <td>Southern</td>\n",
       "      <td>no trend</td>\n",
       "      <td>0.568059</td>\n",
       "      <td>0.753333</td>\n",
       "      <td>no trend</td>\n",
       "      <td>...</td>\n",
       "      <td>22.600000</td>\n",
       "      <td>0.358680</td>\n",
       "      <td>9.285714</td>\n",
       "      <td>1.214158</td>\n",
       "      <td>18.415351</td>\n",
       "      <td>0.210585</td>\n",
       "      <td>6.692308</td>\n",
       "      <td>-0.207476</td>\n",
       "      <td>-0.023085</td>\n",
       "      <td>POINT (-49.46670 -24.10000)</td>\n",
       "    </tr>\n",
       "    <tr>\n",
       "      <th>474</th>\n",
       "      <td>2450002</td>\n",
       "      <td>TIBAJI</td>\n",
       "      <td>-24.5108</td>\n",
       "      <td>-50.4000</td>\n",
       "      <td>720.0</td>\n",
       "      <td>Southern</td>\n",
       "      <td>no trend</td>\n",
       "      <td>0.432450</td>\n",
       "      <td>-0.718771</td>\n",
       "      <td>no trend</td>\n",
       "      <td>...</td>\n",
       "      <td>-21.563138</td>\n",
       "      <td>-0.730269</td>\n",
       "      <td>-27.434770</td>\n",
       "      <td>-0.507372</td>\n",
       "      <td>-13.230913</td>\n",
       "      <td>0.785820</td>\n",
       "      <td>32.545455</td>\n",
       "      <td>0.020281</td>\n",
       "      <td>0.001635</td>\n",
       "      <td>POINT (-50.40000 -24.51080)</td>\n",
       "    </tr>\n",
       "    <tr>\n",
       "      <th>475</th>\n",
       "      <td>2450026</td>\n",
       "      <td>COLÔNIA IAPÓ</td>\n",
       "      <td>-24.6331</td>\n",
       "      <td>-50.1331</td>\n",
       "      <td>1050.0</td>\n",
       "      <td>Southern</td>\n",
       "      <td>no trend</td>\n",
       "      <td>0.914752</td>\n",
       "      <td>0.122222</td>\n",
       "      <td>no trend</td>\n",
       "      <td>...</td>\n",
       "      <td>3.666667</td>\n",
       "      <td>-0.587111</td>\n",
       "      <td>-21.235294</td>\n",
       "      <td>0.564677</td>\n",
       "      <td>13.821003</td>\n",
       "      <td>0.500182</td>\n",
       "      <td>20.636364</td>\n",
       "      <td>-0.408417</td>\n",
       "      <td>-0.033146</td>\n",
       "      <td>POINT (-50.13310 -24.63310)</td>\n",
       "    </tr>\n",
       "    <tr>\n",
       "      <th>476</th>\n",
       "      <td>2450031</td>\n",
       "      <td>GUARICANGA - PIRAI DO SUL</td>\n",
       "      <td>-24.3667</td>\n",
       "      <td>-50.1000</td>\n",
       "      <td>962.0</td>\n",
       "      <td>Southern</td>\n",
       "      <td>no trend</td>\n",
       "      <td>0.391793</td>\n",
       "      <td>0.984848</td>\n",
       "      <td>no trend</td>\n",
       "      <td>...</td>\n",
       "      <td>29.545455</td>\n",
       "      <td>-0.531316</td>\n",
       "      <td>-18.696792</td>\n",
       "      <td>0.242163</td>\n",
       "      <td>5.083698</td>\n",
       "      <td>0.416310</td>\n",
       "      <td>16.318182</td>\n",
       "      <td>-0.800425</td>\n",
       "      <td>-0.075739</td>\n",
       "      <td>POINT (-50.10000 -24.36670)</td>\n",
       "    </tr>\n",
       "    <tr>\n",
       "      <th>477</th>\n",
       "      <td>2450036</td>\n",
       "      <td>FAZENDA REDOMONA</td>\n",
       "      <td>-24.2586</td>\n",
       "      <td>-50.0839</td>\n",
       "      <td>957.0</td>\n",
       "      <td>Southern</td>\n",
       "      <td>no trend</td>\n",
       "      <td>0.943108</td>\n",
       "      <td>-0.080952</td>\n",
       "      <td>no trend</td>\n",
       "      <td>...</td>\n",
       "      <td>-2.428571</td>\n",
       "      <td>-1.295658</td>\n",
       "      <td>-47.000000</td>\n",
       "      <td>-0.620721</td>\n",
       "      <td>-14.714286</td>\n",
       "      <td>-0.179287</td>\n",
       "      <td>-6.681818</td>\n",
       "      <td>-0.008581</td>\n",
       "      <td>-0.000837</td>\n",
       "      <td>POINT (-50.08390 -24.25860)</td>\n",
       "    </tr>\n",
       "  </tbody>\n",
       "</table>\n",
       "<p>478 rows × 43 columns</p>\n",
       "</div>"
      ],
      "text/plain": [
       "        Code                       Name  Latitude  Longitude  Altitude  \\\n",
       "0     343001                     IGUARÁ   -3.5536   -43.8736     158.0   \n",
       "1     343003             NINA RODRIGUES   -3.4594   -43.8989     112.0   \n",
       "2     344004                 CANTANHEDE   -3.6325   -44.3764      31.0   \n",
       "3     344007                PERITORÓ II   -3.7097   -44.2933     145.0   \n",
       "4     344008                     PEDRAS   -3.9436   -44.0175     182.0   \n",
       "..       ...                        ...       ...        ...       ...   \n",
       "473  2449044                     SENGES  -24.1000   -49.4667     650.0   \n",
       "474  2450002                     TIBAJI  -24.5108   -50.4000     720.0   \n",
       "475  2450026               COLÔNIA IAPÓ  -24.6331   -50.1331    1050.0   \n",
       "476  2450031  GUARICANGA - PIRAI DO SUL  -24.3667   -50.1000     962.0   \n",
       "477  2450036           FAZENDA REDOMONA  -24.2586   -50.0839     957.0   \n",
       "\n",
       "       region trend_DJF     p_DJF  slope_DJF trend_JJA  ...  pr_anom_DJF  \\\n",
       "0     Central  no trend  0.775294  -0.648889  no trend  ...   -19.466667   \n",
       "1     Central  no trend  0.721226  -0.536667  no trend  ...   -16.100000   \n",
       "2     Central  no trend  0.802762   0.395238  no trend  ...    11.857143   \n",
       "3     Central  no trend  0.721226   0.522222  no trend  ...    15.666667   \n",
       "4     Central  no trend  0.401659   0.791964  no trend  ...    23.758925   \n",
       "..        ...       ...       ...        ...       ...  ...          ...   \n",
       "473  Southern  no trend  0.568059   0.753333  no trend  ...    22.600000   \n",
       "474  Southern  no trend  0.432450  -0.718771  no trend  ...   -21.563138   \n",
       "475  Southern  no trend  0.914752   0.122222  no trend  ...     3.666667   \n",
       "476  Southern  no trend  0.391793   0.984848  no trend  ...    29.545455   \n",
       "477  Southern  no trend  0.943108  -0.080952  no trend  ...    -2.428571   \n",
       "\n",
       "     pr_ratio_MAM pr_anom_MAM  pr_ratio_JJA  pr_anom_JJA pr_ratio_SON  \\\n",
       "0        0.417750   34.357143     -0.201467    -1.729013    -0.749808   \n",
       "1        0.561339   45.809524      0.472268     4.180632    -2.060078   \n",
       "2        0.640978   53.222222     -1.415406   -15.646650    -1.006915   \n",
       "3        0.380067   31.893527     -1.009091   -11.551418    -1.237614   \n",
       "4        0.407646   35.142857      0.577165     3.638373    -1.123336   \n",
       "..            ...         ...           ...          ...          ...   \n",
       "473      0.358680    9.285714      1.214158    18.415351     0.210585   \n",
       "474     -0.730269  -27.434770     -0.507372   -13.230913     0.785820   \n",
       "475     -0.587111  -21.235294      0.564677    13.821003     0.500182   \n",
       "476     -0.531316  -18.696792      0.242163     5.083698     0.416310   \n",
       "477     -1.295658  -47.000000     -0.620721   -14.714286    -0.179287   \n",
       "\n",
       "     pr_anom_SON  ent_ratio  ent_anom                     geometry  \n",
       "0      -3.633345   0.301373  0.067536   POINT (-43.87360 -3.55360)  \n",
       "1     -15.117137   0.498935  0.105087   POINT (-43.89890 -3.45940)  \n",
       "2      -8.566139   0.877524  0.170943   POINT (-44.37640 -3.63250)  \n",
       "3     -11.763052   0.890013  0.169976   POINT (-44.29330 -3.70970)  \n",
       "4      -7.063969  -0.121577 -0.031573   POINT (-44.01750 -3.94360)  \n",
       "..           ...        ...       ...                          ...  \n",
       "473     6.692308  -0.207476 -0.023085  POINT (-49.46670 -24.10000)  \n",
       "474    32.545455   0.020281  0.001635  POINT (-50.40000 -24.51080)  \n",
       "475    20.636364  -0.408417 -0.033146  POINT (-50.13310 -24.63310)  \n",
       "476    16.318182  -0.800425 -0.075739  POINT (-50.10000 -24.36670)  \n",
       "477    -6.681818  -0.008581 -0.000837  POINT (-50.08390 -24.25860)  \n",
       "\n",
       "[478 rows x 43 columns]"
      ]
     },
     "execution_count": 41,
     "metadata": {},
     "output_type": "execute_result"
    }
   ],
   "source": [
    "gdf_mk_pr_ent"
   ]
  }
 ],
 "metadata": {
  "kernelspec": {
   "display_name": "geo_env",
   "language": "python",
   "name": "python3"
  },
  "language_info": {
   "codemirror_mode": {
    "name": "ipython",
    "version": 3
   },
   "file_extension": ".py",
   "mimetype": "text/x-python",
   "name": "python",
   "nbconvert_exporter": "python",
   "pygments_lexer": "ipython3",
   "version": "3.10.6"
  },
  "orig_nbformat": 4
 },
 "nbformat": 4,
 "nbformat_minor": 2
}
