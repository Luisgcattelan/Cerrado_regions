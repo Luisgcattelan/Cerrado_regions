{
 "cells": [
  {
   "cell_type": "code",
   "execution_count": 4,
   "metadata": {},
   "outputs": [],
   "source": [
    "import matplotlib.pyplot as plt\n",
    "import numpy as np\n",
    "import pandas as pd\n",
    "import os\n",
    "from glob import glob\n",
    "import seaborn as sns\n",
    "import geopandas as gpd\n",
    "from sklearn.neighbors import BallTree\n",
    "from sklearn.linear_model import LinearRegression"
   ]
  },
  {
   "cell_type": "code",
   "execution_count": 6,
   "metadata": {},
   "outputs": [],
   "source": [
    "ibge = gpd.read_file(r'Data\\IBGE\\BiomasBrasil.shp')\n",
    "shp_cerrado = ibge[ibge.biomas == 'CERRADO']\n",
    "gdf = gpd.read_file('Data\\stations.geojson').to_crs(ibge.crs)\n",
    "df_cerrado = pd.read_pickle(r'D:\\GU\\IC\\Scripts\\Data\\df_cerrado_bet.pkl')\n",
    "gdf_filtered = gdf[gdf.Code.isin(df_cerrado.Code.unique())]"
   ]
  },
  {
   "cell_type": "code",
   "execution_count": 9,
   "metadata": {},
   "outputs": [],
   "source": [
    "df_bet = pd.read_pickle('D:\\GU\\IC\\Scripts\\Data\\ANA_81_10_bet.pkl')\n",
    "gdf_bet = gdf[gdf.Code.isin(df_bet.Code.unique())]\n",
    "gdf_bet.reset_index(drop=True, inplace=True)\n"
   ]
  },
  {
   "cell_type": "code",
   "execution_count": 13,
   "metadata": {},
   "outputs": [],
   "source": [
    "df_all = pd.read_pickle(r'Data\\ANA_clean.pkl').dropna()\n",
    "df_all = df_all.sort_values(by=['Code', 'Date', 'Consistency']).drop_duplicates(subset=['Code', 'Date'], keep='last')\n",
    "gdf.sort_values(by='Code', inplace=True)\n",
    "df_all.sort_values(by='Code', inplace=True)\n",
    "gdf = gdf[gdf.Code.isin(df_all.Code.unique())]\n",
    "gdf.reset_index(drop=True, inplace=True)\n",
    "gdf['begin'] = df_all.sort_values('Date').groupby('Code').first().reset_index().sort_values('Code')['Date']\n",
    "gdf['end'] = df_all.sort_values('Date').groupby('Code').last().reset_index().sort_values('Code')['Date']"
   ]
  },
  {
   "cell_type": "code",
   "execution_count": 7,
   "metadata": {},
   "outputs": [],
   "source": [
    "def get_neighbors(src_points, candidates, k_neighbors):\n",
    "    \"\"\"Find nearest neighbors for all source points from a set of candidate points\"\"\"\n",
    "\n",
    "    # Create tree from the candidate points\n",
    "    tree = BallTree(candidates, leaf_size=40, metric='haversine')\n",
    "\n",
    "    # Find closest points and distances\n",
    "    distances, indices = tree.query(src_points, k=k_neighbors)\n",
    "\n",
    "    # Transpose to get distances and indices into arrays\n",
    "    distances = distances.transpose()\n",
    "    indices = indices.transpose()\n",
    "\n",
    "    return indices, distances\n",
    "\n",
    "\n",
    "def nearest_neighbors(left_gdf, right_gdf, k_neighbors=6):\n",
    "    \"\"\"\n",
    "    For each point in left_gdf, find closest point in right GeoDataFrame and return them.\n",
    "    \n",
    "    NOTICE: Assumes that the input Points are in WGS84 projection (lat/lon).\n",
    "    \"\"\"\n",
    "    \n",
    "    left_geom_col = left_gdf.geometry.name\n",
    "    right_geom_col = right_gdf.geometry.name\n",
    "    \n",
    "    # Ensure that index in right gdf is formed of sequential numbers\n",
    "    right = right_gdf.copy().reset_index(drop=True)\n",
    "    \n",
    "    # Parse coordinates from points and insert them into a numpy array as RADIANS\n",
    "    # Notice: should be in Lat/Lon format \n",
    "    left_radians = np.array(left_gdf[left_geom_col].apply(lambda geom: (geom.y * np.pi / 180, geom.x * np.pi / 180)).to_list())\n",
    "    right_radians = np.array(right[right_geom_col].apply(lambda geom: (geom.y * np.pi / 180, geom.x * np.pi / 180)).to_list())\n",
    "        \n",
    "    closest, dist = get_neighbors(src_points=left_radians, candidates=right_radians, k_neighbors = k_neighbors)\n",
    "        \n",
    "    return closest"
   ]
  },
  {
   "cell_type": "code",
   "execution_count": 8,
   "metadata": {},
   "outputs": [
    {
     "data": {
      "text/html": [
       "<div>\n",
       "<style scoped>\n",
       "    .dataframe tbody tr th:only-of-type {\n",
       "        vertical-align: middle;\n",
       "    }\n",
       "\n",
       "    .dataframe tbody tr th {\n",
       "        vertical-align: top;\n",
       "    }\n",
       "\n",
       "    .dataframe thead th {\n",
       "        text-align: right;\n",
       "    }\n",
       "</style>\n",
       "<table border=\"1\" class=\"dataframe\">\n",
       "  <thead>\n",
       "    <tr style=\"text-align: right;\">\n",
       "      <th></th>\n",
       "      <th>latitude</th>\n",
       "      <th>longitude</th>\n",
       "    </tr>\n",
       "  </thead>\n",
       "  <tbody>\n",
       "    <tr>\n",
       "      <th>0</th>\n",
       "      <td>-2.850000</td>\n",
       "      <td>-54.970000</td>\n",
       "    </tr>\n",
       "    <tr>\n",
       "      <th>1</th>\n",
       "      <td>-3.371111</td>\n",
       "      <td>-54.951111</td>\n",
       "    </tr>\n",
       "    <tr>\n",
       "      <th>2</th>\n",
       "      <td>-3.389167</td>\n",
       "      <td>-54.950556</td>\n",
       "    </tr>\n",
       "  </tbody>\n",
       "</table>\n",
       "</div>"
      ],
      "text/plain": [
       "   latitude  longitude\n",
       "0 -2.850000 -54.970000\n",
       "1 -3.371111 -54.951111\n",
       "2 -3.389167 -54.950556"
      ]
     },
     "execution_count": 8,
     "metadata": {},
     "output_type": "execute_result"
    }
   ],
   "source": [
    "# create a df with this points, colums:latitude and longitude: (-2.85,-54.97), (-5.945, -22 )\n",
    "\n",
    "points = [(-2.85,-54.97), (-3.37111111, -54.95111111),(-3.38916667,-54.95055556)]\n",
    "\n",
    "# create a Pandas DataFrame with the points\n",
    "df_tap = pd.DataFrame(points, columns=['latitude', 'longitude'])\n",
    "df_tap\n"
   ]
  },
  {
   "cell_type": "code",
   "execution_count": 103,
   "metadata": {},
   "outputs": [],
   "source": [
    "#create a gdf from the df\n",
    "gdf_tap = gpd.GeoDataFrame(df_tap, geometry=gpd.points_from_xy(df_tap.longitude, df_tap.latitude), crs=gdf.crs)\n"
   ]
  },
  {
   "cell_type": "code",
   "execution_count": 104,
   "metadata": {},
   "outputs": [],
   "source": [
    "index_near = nearest_neighbors(gdf_tap.to_crs('EPSG:4326'), gdf.to_crs('EPSG:4326'), k_neighbors=5)"
   ]
  },
  {
   "cell_type": "code",
   "execution_count": 105,
   "metadata": {},
   "outputs": [
    {
     "data": {
      "text/html": [
       "<div>\n",
       "<style scoped>\n",
       "    .dataframe tbody tr th:only-of-type {\n",
       "        vertical-align: middle;\n",
       "    }\n",
       "\n",
       "    .dataframe tbody tr th {\n",
       "        vertical-align: top;\n",
       "    }\n",
       "\n",
       "    .dataframe thead th {\n",
       "        text-align: right;\n",
       "    }\n",
       "</style>\n",
       "<table border=\"1\" class=\"dataframe\">\n",
       "  <thead>\n",
       "    <tr style=\"text-align: right;\">\n",
       "      <th></th>\n",
       "      <th>Code</th>\n",
       "      <th>Name</th>\n",
       "      <th>Latitude</th>\n",
       "      <th>Longitude</th>\n",
       "      <th>Altitude</th>\n",
       "      <th>begin</th>\n",
       "      <th>end</th>\n",
       "    </tr>\n",
       "  </thead>\n",
       "  <tbody>\n",
       "    <tr>\n",
       "      <th>228</th>\n",
       "      <td>254003</td>\n",
       "      <td>BELTERRA</td>\n",
       "      <td>-2.6333</td>\n",
       "      <td>-54.9500</td>\n",
       "      <td>176.0</td>\n",
       "      <td>1975-01-01</td>\n",
       "      <td>2007-12-01</td>\n",
       "    </tr>\n",
       "    <tr>\n",
       "      <th>231</th>\n",
       "      <td>254006</td>\n",
       "      <td>MOJU PRIMEIRO</td>\n",
       "      <td>-2.7333</td>\n",
       "      <td>-54.7667</td>\n",
       "      <td>80.0</td>\n",
       "      <td>1983-10-01</td>\n",
       "      <td>1984-10-01</td>\n",
       "    </tr>\n",
       "    <tr>\n",
       "      <th>234</th>\n",
       "      <td>254011</td>\n",
       "      <td>KM - 1707/BR 163</td>\n",
       "      <td>-2.6500</td>\n",
       "      <td>-54.8189</td>\n",
       "      <td>NaN</td>\n",
       "      <td>2004-11-01</td>\n",
       "      <td>2022-01-01</td>\n",
       "    </tr>\n",
       "    <tr>\n",
       "      <th>229</th>\n",
       "      <td>254004</td>\n",
       "      <td>SANTARÉM</td>\n",
       "      <td>-2.4167</td>\n",
       "      <td>-54.7833</td>\n",
       "      <td>60.0</td>\n",
       "      <td>1980-01-01</td>\n",
       "      <td>1985-12-01</td>\n",
       "    </tr>\n",
       "    <tr>\n",
       "      <th>225</th>\n",
       "      <td>254000</td>\n",
       "      <td>SANTARÉM</td>\n",
       "      <td>-2.4433</td>\n",
       "      <td>-54.7025</td>\n",
       "      <td>NaN</td>\n",
       "      <td>1968-05-01</td>\n",
       "      <td>2022-02-01</td>\n",
       "    </tr>\n",
       "  </tbody>\n",
       "</table>\n",
       "</div>"
      ],
      "text/plain": [
       "       Code              Name  Latitude  Longitude  Altitude      begin  \\\n",
       "228  254003          BELTERRA   -2.6333   -54.9500     176.0 1975-01-01   \n",
       "231  254006     MOJU PRIMEIRO   -2.7333   -54.7667      80.0 1983-10-01   \n",
       "234  254011  KM - 1707/BR 163   -2.6500   -54.8189       NaN 2004-11-01   \n",
       "229  254004          SANTARÉM   -2.4167   -54.7833      60.0 1980-01-01   \n",
       "225  254000          SANTARÉM   -2.4433   -54.7025       NaN 1968-05-01   \n",
       "\n",
       "           end  \n",
       "228 2007-12-01  \n",
       "231 1984-10-01  \n",
       "234 2022-01-01  \n",
       "229 1985-12-01  \n",
       "225 2022-02-01  "
      ]
     },
     "execution_count": 105,
     "metadata": {},
     "output_type": "execute_result"
    }
   ],
   "source": [
    "val = gdf.iloc[index_near[:, 0]]['Code'].values\n",
    "gdf.iloc[index_near[:, 0]].drop(columns=['geometry'])"
   ]
  },
  {
   "cell_type": "code",
   "execution_count": 13,
   "metadata": {},
   "outputs": [
    {
     "data": {
      "text/html": [
       "<div>\n",
       "<style scoped>\n",
       "    .dataframe tbody tr th:only-of-type {\n",
       "        vertical-align: middle;\n",
       "    }\n",
       "\n",
       "    .dataframe tbody tr th {\n",
       "        vertical-align: top;\n",
       "    }\n",
       "\n",
       "    .dataframe thead th {\n",
       "        text-align: right;\n",
       "    }\n",
       "</style>\n",
       "<table border=\"1\" class=\"dataframe\">\n",
       "  <thead>\n",
       "    <tr style=\"text-align: right;\">\n",
       "      <th></th>\n",
       "      <th>Code</th>\n",
       "      <th>Name</th>\n",
       "      <th>Latitude</th>\n",
       "      <th>Longitude</th>\n",
       "      <th>Altitude</th>\n",
       "      <th>begin</th>\n",
       "      <th>end</th>\n",
       "    </tr>\n",
       "  </thead>\n",
       "  <tbody>\n",
       "    <tr>\n",
       "      <th>598</th>\n",
       "      <td>354002</td>\n",
       "      <td>KM 125 - ESTRADA SANTARÉM - CUIABÁ</td>\n",
       "      <td>-3.4000</td>\n",
       "      <td>-54.9000</td>\n",
       "      <td>100.0</td>\n",
       "      <td>1983-12-01</td>\n",
       "      <td>1984-10-01</td>\n",
       "    </tr>\n",
       "    <tr>\n",
       "      <th>600</th>\n",
       "      <td>355001</td>\n",
       "      <td>MUTUM</td>\n",
       "      <td>-3.4936</td>\n",
       "      <td>-54.8869</td>\n",
       "      <td>NaN</td>\n",
       "      <td>1999-07-01</td>\n",
       "      <td>2022-02-01</td>\n",
       "    </tr>\n",
       "    <tr>\n",
       "      <th>599</th>\n",
       "      <td>355000</td>\n",
       "      <td>FAZENDA DANIEL DE CARVALHO</td>\n",
       "      <td>-3.5833</td>\n",
       "      <td>-55.3667</td>\n",
       "      <td>NaN</td>\n",
       "      <td>1977-12-01</td>\n",
       "      <td>1983-01-01</td>\n",
       "    </tr>\n",
       "    <tr>\n",
       "      <th>597</th>\n",
       "      <td>354001</td>\n",
       "      <td>ACAMPAMENTO PILOTO</td>\n",
       "      <td>-3.3833</td>\n",
       "      <td>-54.4833</td>\n",
       "      <td>50.0</td>\n",
       "      <td>1983-12-01</td>\n",
       "      <td>1984-02-01</td>\n",
       "    </tr>\n",
       "    <tr>\n",
       "      <th>966</th>\n",
       "      <td>454001</td>\n",
       "      <td>FAZENDA MARCONDES</td>\n",
       "      <td>-3.9664</td>\n",
       "      <td>-54.6419</td>\n",
       "      <td>NaN</td>\n",
       "      <td>1982-05-01</td>\n",
       "      <td>2021-05-01</td>\n",
       "    </tr>\n",
       "  </tbody>\n",
       "</table>\n",
       "</div>"
      ],
      "text/plain": [
       "       Code                                Name  Latitude  Longitude  \\\n",
       "598  354002  KM 125 - ESTRADA SANTARÉM - CUIABÁ   -3.4000   -54.9000   \n",
       "600  355001                               MUTUM   -3.4936   -54.8869   \n",
       "599  355000          FAZENDA DANIEL DE CARVALHO   -3.5833   -55.3667   \n",
       "597  354001                  ACAMPAMENTO PILOTO   -3.3833   -54.4833   \n",
       "966  454001                   FAZENDA MARCONDES   -3.9664   -54.6419   \n",
       "\n",
       "     Altitude      begin        end  \n",
       "598     100.0 1983-12-01 1984-10-01  \n",
       "600       NaN 1999-07-01 2022-02-01  \n",
       "599       NaN 1977-12-01 1983-01-01  \n",
       "597      50.0 1983-12-01 1984-02-01  \n",
       "966       NaN 1982-05-01 2021-05-01  "
      ]
     },
     "execution_count": 13,
     "metadata": {},
     "output_type": "execute_result"
    }
   ],
   "source": [
    "gdf.iloc[index_near[:, 2]].drop(columns=['geometry'])"
   ]
  },
  {
   "cell_type": "code",
   "execution_count": 14,
   "metadata": {},
   "outputs": [],
   "source": [
    "df_all[df_all.Code==454001].drop(columns=['Code', 'Consistency']).sort_values('Date').reset_index(drop=True).to_csv(r'Data\\Deli\\454001.csv', index=False)"
   ]
  },
  {
   "cell_type": "code",
   "execution_count": 21,
   "metadata": {},
   "outputs": [
    {
     "data": {
      "text/html": [
       "<div>\n",
       "<style scoped>\n",
       "    .dataframe tbody tr th:only-of-type {\n",
       "        vertical-align: middle;\n",
       "    }\n",
       "\n",
       "    .dataframe tbody tr th {\n",
       "        vertical-align: top;\n",
       "    }\n",
       "\n",
       "    .dataframe thead th {\n",
       "        text-align: right;\n",
       "    }\n",
       "</style>\n",
       "<table border=\"1\" class=\"dataframe\">\n",
       "  <thead>\n",
       "    <tr style=\"text-align: right;\">\n",
       "      <th></th>\n",
       "      <th>Date</th>\n",
       "      <th>Total</th>\n",
       "    </tr>\n",
       "  </thead>\n",
       "  <tbody>\n",
       "    <tr>\n",
       "      <th>2993556</th>\n",
       "      <td>2016-02-01</td>\n",
       "      <td>120.6</td>\n",
       "    </tr>\n",
       "    <tr>\n",
       "      <th>2993555</th>\n",
       "      <td>2016-03-01</td>\n",
       "      <td>342.4</td>\n",
       "    </tr>\n",
       "    <tr>\n",
       "      <th>2993553</th>\n",
       "      <td>2016-05-01</td>\n",
       "      <td>311.3</td>\n",
       "    </tr>\n",
       "    <tr>\n",
       "      <th>2993552</th>\n",
       "      <td>2016-06-01</td>\n",
       "      <td>165.8</td>\n",
       "    </tr>\n",
       "    <tr>\n",
       "      <th>2993551</th>\n",
       "      <td>2016-07-01</td>\n",
       "      <td>61.3</td>\n",
       "    </tr>\n",
       "    <tr>\n",
       "      <th>2993550</th>\n",
       "      <td>2016-08-01</td>\n",
       "      <td>18.3</td>\n",
       "    </tr>\n",
       "    <tr>\n",
       "      <th>2993548</th>\n",
       "      <td>2016-10-01</td>\n",
       "      <td>94.2</td>\n",
       "    </tr>\n",
       "    <tr>\n",
       "      <th>2993547</th>\n",
       "      <td>2016-11-01</td>\n",
       "      <td>35.4</td>\n",
       "    </tr>\n",
       "    <tr>\n",
       "      <th>2993546</th>\n",
       "      <td>2016-12-01</td>\n",
       "      <td>126.7</td>\n",
       "    </tr>\n",
       "  </tbody>\n",
       "</table>\n",
       "</div>"
      ],
      "text/plain": [
       "              Date  Total\n",
       "2993556 2016-02-01  120.6\n",
       "2993555 2016-03-01  342.4\n",
       "2993553 2016-05-01  311.3\n",
       "2993552 2016-06-01  165.8\n",
       "2993551 2016-07-01   61.3\n",
       "2993550 2016-08-01   18.3\n",
       "2993548 2016-10-01   94.2\n",
       "2993547 2016-11-01   35.4\n",
       "2993546 2016-12-01  126.7"
      ]
     },
     "execution_count": 21,
     "metadata": {},
     "output_type": "execute_result"
    }
   ],
   "source": [
    "dff = df_all[df_all.Code==254000].drop(columns=['Code', 'Consistency']).sort_values('Date')\n",
    "#get data only in 2016\n",
    "dff[dff.Date.dt.year==2016]"
   ]
  },
  {
   "cell_type": "code",
   "execution_count": 20,
   "metadata": {},
   "outputs": [],
   "source": [
    "df_all[df_all.Code==254011].drop(columns=['Code', 'Consistency']).sort_values('Date').reset_index(drop=True).to_csv(r'Data\\Deli\\254011.csv', index=False)"
   ]
  },
  {
   "cell_type": "code",
   "execution_count": 15,
   "metadata": {},
   "outputs": [],
   "source": [
    "df_all[df_all.Code==254000].drop(columns=['Code', 'Consistency']).sort_values('Date').reset_index(drop=True).to_csv(r'Data\\Deli\\254000.csv', index=False)"
   ]
  },
  {
   "cell_type": "code",
   "execution_count": 46,
   "metadata": {},
   "outputs": [],
   "source": [
    "gdf.iloc[[225, 966]].drop(columns=['geometry']).to_csv(r'Data\\Deli\\stations.csv', index=False)"
   ]
  },
  {
   "attachments": {},
   "cell_type": "markdown",
   "metadata": {},
   "source": [
    "## CAIO"
   ]
  },
  {
   "cell_type": "code",
   "execution_count": 217,
   "metadata": {},
   "outputs": [],
   "source": [
    "df_bet = pd.read_pickle('D:\\GU\\IC\\Scripts\\ANA_81_10_bet.pkl')\n",
    "gdf = gpd.read_file('stations.geojson').to_crs(ibge.crs)\n",
    "gdf_bet = gdf[gdf.Code.isin(df_bet.Code.unique())]\n",
    "gdf_bet.reset_index(drop=True, inplace=True)\n"
   ]
  },
  {
   "cell_type": "code",
   "execution_count": 218,
   "metadata": {},
   "outputs": [],
   "source": [
    "df_caio = pd.DataFrame({'Area': ['Reserva Ducke', 'FLONA Tapajós', 'Chapada dos Veadeiros'],\n",
    "     'Latitude': [-2.953, -2.908, -14.110],\n",
    "     'Longitude': [-59.933, -54.997, -47.647]})\n",
    "gdf_caio = gpd.GeoDataFrame(df_caio, geometry=gpd.points_from_xy(df_caio.Longitude, df_caio.Latitude), crs=gdf.crs)"
   ]
  },
  {
   "cell_type": "code",
   "execution_count": 219,
   "metadata": {},
   "outputs": [],
   "source": [
    "index_near = nearest_neighbors(gdf_caio.to_crs('EPSG:4326'), gdf_bet.to_crs('EPSG:4326'), k_neighbors=5)"
   ]
  },
  {
   "cell_type": "code",
   "execution_count": 220,
   "metadata": {},
   "outputs": [
    {
     "data": {
      "text/plain": [
       "array([ 360000,  254000, 1447000], dtype=int64)"
      ]
     },
     "execution_count": 220,
     "metadata": {},
     "output_type": "execute_result"
    }
   ],
   "source": [
    "gdf_bet.iloc[index_near[0, :]]['Code'].values"
   ]
  },
  {
   "cell_type": "code",
   "execution_count": 221,
   "metadata": {},
   "outputs": [
    {
     "data": {
      "text/html": [
       "<div>\n",
       "<style scoped>\n",
       "    .dataframe tbody tr th:only-of-type {\n",
       "        vertical-align: middle;\n",
       "    }\n",
       "\n",
       "    .dataframe tbody tr th {\n",
       "        vertical-align: top;\n",
       "    }\n",
       "\n",
       "    .dataframe thead th {\n",
       "        text-align: right;\n",
       "    }\n",
       "</style>\n",
       "<table border=\"1\" class=\"dataframe\">\n",
       "  <thead>\n",
       "    <tr style=\"text-align: right;\">\n",
       "      <th></th>\n",
       "      <th>Area</th>\n",
       "      <th>Latitude_area</th>\n",
       "      <th>Longitude_area</th>\n",
       "      <th>geometry_area</th>\n",
       "      <th>Code</th>\n",
       "      <th>Name</th>\n",
       "      <th>Latitude_station</th>\n",
       "      <th>Longitude_station</th>\n",
       "      <th>Altitude</th>\n",
       "      <th>geometry_station</th>\n",
       "    </tr>\n",
       "  </thead>\n",
       "  <tbody>\n",
       "    <tr>\n",
       "      <th>0</th>\n",
       "      <td>Reserva Ducke</td>\n",
       "      <td>-2.953</td>\n",
       "      <td>-59.933</td>\n",
       "      <td>POINT (-59.93300 -2.95300)</td>\n",
       "      <td>360000</td>\n",
       "      <td>MANAUS</td>\n",
       "      <td>-3.1167</td>\n",
       "      <td>-59.9500</td>\n",
       "      <td>67.0</td>\n",
       "      <td>POINT (-59.95000 -3.11670)</td>\n",
       "    </tr>\n",
       "    <tr>\n",
       "      <th>1</th>\n",
       "      <td>FLONA Tapajós</td>\n",
       "      <td>-2.908</td>\n",
       "      <td>-54.997</td>\n",
       "      <td>POINT (-54.99700 -2.90800)</td>\n",
       "      <td>254000</td>\n",
       "      <td>SANTARÉM</td>\n",
       "      <td>-2.4433</td>\n",
       "      <td>-54.7025</td>\n",
       "      <td>NaN</td>\n",
       "      <td>POINT (-54.70250 -2.44330)</td>\n",
       "    </tr>\n",
       "    <tr>\n",
       "      <th>2</th>\n",
       "      <td>Chapada dos Veadeiros</td>\n",
       "      <td>-14.110</td>\n",
       "      <td>-47.647</td>\n",
       "      <td>POINT (-47.64700 -14.11000)</td>\n",
       "      <td>1447000</td>\n",
       "      <td>ALTO PARAÍSO DE GOIÁS</td>\n",
       "      <td>-14.1347</td>\n",
       "      <td>-47.5117</td>\n",
       "      <td>1197.0</td>\n",
       "      <td>POINT (-47.51170 -14.13470)</td>\n",
       "    </tr>\n",
       "  </tbody>\n",
       "</table>\n",
       "</div>"
      ],
      "text/plain": [
       "                    Area  Latitude_area  Longitude_area  \\\n",
       "0          Reserva Ducke         -2.953         -59.933   \n",
       "1          FLONA Tapajós         -2.908         -54.997   \n",
       "2  Chapada dos Veadeiros        -14.110         -47.647   \n",
       "\n",
       "                 geometry_area     Code                   Name  \\\n",
       "0   POINT (-59.93300 -2.95300)   360000                 MANAUS   \n",
       "1   POINT (-54.99700 -2.90800)   254000               SANTARÉM   \n",
       "2  POINT (-47.64700 -14.11000)  1447000  ALTO PARAÍSO DE GOIÁS   \n",
       "\n",
       "   Latitude_station  Longitude_station  Altitude             geometry_station  \n",
       "0           -3.1167           -59.9500      67.0   POINT (-59.95000 -3.11670)  \n",
       "1           -2.4433           -54.7025       NaN   POINT (-54.70250 -2.44330)  \n",
       "2          -14.1347           -47.5117    1197.0  POINT (-47.51170 -14.13470)  "
      ]
     },
     "execution_count": 221,
     "metadata": {},
     "output_type": "execute_result"
    }
   ],
   "source": [
    "val = gdf_bet.iloc[index_near[0, :]]['Code'].values\n",
    "gdf_caio['Code'] = val\n",
    "gdf_caio = gdf_caio.merge(gdf_bet[gdf_bet.Code.isin(val)], on='Code', suffixes=('_area', '_station'))\n",
    "gdf_caio"
   ]
  },
  {
   "cell_type": "code",
   "execution_count": 222,
   "metadata": {},
   "outputs": [],
   "source": [
    "df_caio = df_bet[df_bet.Code.isin(val)].reset_index(drop=True)\n",
    "df_caio = df_caio.merge(gdf_caio[['Code', 'Name']], on=['Code'], how='left')"
   ]
  },
  {
   "cell_type": "code",
   "execution_count": 223,
   "metadata": {},
   "outputs": [],
   "source": [
    "df_caio.to_csv(r'Data\\Deli\\df_caio_consist.csv', index=False)\n",
    "gdf_caio.to_csv(r'Data\\Deli\\gdf_caio_consist.csv', index=False)\n"
   ]
  },
  {
   "cell_type": "code",
   "execution_count": 224,
   "metadata": {},
   "outputs": [
    {
     "name": "stderr",
     "output_type": "stream",
     "text": [
      "C:\\Users\\luisg\\AppData\\Local\\Temp\\ipykernel_25568\\1463185758.py:1: FutureWarning: The default value of numeric_only in DataFrameGroupBy.sum is deprecated. In a future version, numeric_only will default to False. Either specify numeric_only or select only columns which should be valid for the function.\n",
      "  df_map = df_caio.groupby(['Code', df_caio.Date.dt.year]).sum().reset_index().merge(gdf_caio[['Code', 'Name']], on=['Code'], how='left')\n"
     ]
    },
    {
     "data": {
      "text/plain": [
       "<AxesSubplot: xlabel='Name', ylabel='Total'>"
      ]
     },
     "execution_count": 224,
     "metadata": {},
     "output_type": "execute_result"
    },
    {
     "data": {
      "image/png": "[encoded data removed]",
      "text/plain": [
       "<Figure size 1500x1000 with 1 Axes>"
      ]
     },
     "metadata": {},
     "output_type": "display_data"
    }
   ],
   "source": [
    "df_map = df_caio.groupby(['Code', df_caio.Date.dt.year]).sum().reset_index().merge(gdf_caio[['Code', 'Name']], on=['Code'], how='left')\n",
    "#plot boxplot for each code\n",
    "fig, ax = plt.subplots(figsize=(15, 10))\n",
    "sns.boxplot(x='Name', y='Total', data=df_map, ax=ax)"
   ]
  },
  {
   "cell_type": "code",
   "execution_count": 225,
   "metadata": {},
   "outputs": [
    {
     "data": {
      "text/plain": [
       "<AxesSubplot: xlabel='Date', ylabel='Total'>"
      ]
     },
     "execution_count": 225,
     "metadata": {},
     "output_type": "execute_result"
    },
    {
     "data": {
      "image/png": "[encoded data removed]",
      "text/plain": [
       "<Figure size 1600x900 with 1 Axes>"
      ]
     },
     "metadata": {},
     "output_type": "display_data"
    }
   ],
   "source": [
    "fig, ax = plt.subplots(figsize=(16, 9))\n",
    "sns.boxplot(x=df_caio.Date.dt.month, y='Total', data=df_caio, hue='Name', ax=ax)"
   ]
  },
  {
   "attachments": {},
   "cell_type": "markdown",
   "metadata": {},
   "source": [
    "### all"
   ]
  },
  {
   "cell_type": "code",
   "execution_count": 226,
   "metadata": {},
   "outputs": [],
   "source": [
    "df_all = pd.read_pickle('clean_all.pkl').dropna()\n",
    "df_all = df_all.sort_values(by=['Code', 'Date', 'Consistency']).drop_duplicates(subset=['Code', 'Date'], keep='last')\n",
    "gdf.sort_values(by='Code', inplace=True)\n",
    "df_all.sort_values(by='Code', inplace=True)\n",
    "gdf = gdf[gdf.Code.isin(df_all.Code.unique())]\n",
    "gdf.reset_index(drop=True, inplace=True)\n",
    "gdf['begin'] = df_all.sort_values('Date').groupby('Code').first().reset_index().sort_values('Code')['Date']\n",
    "gdf['end'] = df_all.sort_values('Date').groupby('Code').last().reset_index().sort_values('Code')['Date']"
   ]
  },
  {
   "cell_type": "code",
   "execution_count": 227,
   "metadata": {},
   "outputs": [],
   "source": [
    "df_caio = pd.DataFrame({'Area': ['Reserva Ducke', 'FLONA Tapajós', 'Chapada dos Veadeiros'],\n",
    "     'Latitude': [-2.953, -2.908, -14.110],\n",
    "     'Longitude': [-59.933, -54.997, -47.647]})\n",
    "gdf_caio = gpd.GeoDataFrame(df_caio, geometry=gpd.points_from_xy(df_caio.Longitude, df_caio.Latitude), crs=gdf.crs)"
   ]
  },
  {
   "cell_type": "code",
   "execution_count": 228,
   "metadata": {},
   "outputs": [],
   "source": [
    "index_near = nearest_neighbors(gdf_caio.to_crs('EPSG:4326'), gdf.to_crs('EPSG:4326'), k_neighbors=5)"
   ]
  },
  {
   "cell_type": "code",
   "execution_count": 229,
   "metadata": {},
   "outputs": [],
   "source": [
    "# manaus 360000 , belterra 254003, chapada 1447000\t"
   ]
  },
  {
   "cell_type": "code",
   "execution_count": 230,
   "metadata": {},
   "outputs": [
    {
     "data": {
      "text/html": [
       "<div>\n",
       "<style scoped>\n",
       "    .dataframe tbody tr th:only-of-type {\n",
       "        vertical-align: middle;\n",
       "    }\n",
       "\n",
       "    .dataframe tbody tr th {\n",
       "        vertical-align: top;\n",
       "    }\n",
       "\n",
       "    .dataframe thead th {\n",
       "        text-align: right;\n",
       "    }\n",
       "</style>\n",
       "<table border=\"1\" class=\"dataframe\">\n",
       "  <thead>\n",
       "    <tr style=\"text-align: right;\">\n",
       "      <th></th>\n",
       "      <th>Code</th>\n",
       "      <th>Name</th>\n",
       "      <th>Latitude</th>\n",
       "      <th>Longitude</th>\n",
       "      <th>Altitude</th>\n",
       "      <th>geometry</th>\n",
       "      <th>begin</th>\n",
       "      <th>end</th>\n",
       "    </tr>\n",
       "  </thead>\n",
       "  <tbody>\n",
       "    <tr>\n",
       "      <th>228</th>\n",
       "      <td>254003</td>\n",
       "      <td>BELTERRA</td>\n",
       "      <td>-2.6333</td>\n",
       "      <td>-54.9500</td>\n",
       "      <td>176.0</td>\n",
       "      <td>POINT (-54.95000 -2.63330)</td>\n",
       "      <td>1975-01-01</td>\n",
       "      <td>2007-12-01</td>\n",
       "    </tr>\n",
       "    <tr>\n",
       "      <th>620</th>\n",
       "      <td>360000</td>\n",
       "      <td>MANAUS</td>\n",
       "      <td>-3.1167</td>\n",
       "      <td>-59.9500</td>\n",
       "      <td>67.0</td>\n",
       "      <td>POINT (-59.95000 -3.11670)</td>\n",
       "      <td>1961-01-01</td>\n",
       "      <td>2019-06-01</td>\n",
       "    </tr>\n",
       "    <tr>\n",
       "      <th>4401</th>\n",
       "      <td>1447000</td>\n",
       "      <td>ALTO PARAÍSO DE GOIÁS</td>\n",
       "      <td>-14.1347</td>\n",
       "      <td>-47.5117</td>\n",
       "      <td>1197.0</td>\n",
       "      <td>POINT (-47.51170 -14.13470)</td>\n",
       "      <td>1969-01-01</td>\n",
       "      <td>2020-10-01</td>\n",
       "    </tr>\n",
       "  </tbody>\n",
       "</table>\n",
       "</div>"
      ],
      "text/plain": [
       "         Code                   Name  Latitude  Longitude  Altitude  \\\n",
       "228    254003               BELTERRA   -2.6333   -54.9500     176.0   \n",
       "620    360000                 MANAUS   -3.1167   -59.9500      67.0   \n",
       "4401  1447000  ALTO PARAÍSO DE GOIÁS  -14.1347   -47.5117    1197.0   \n",
       "\n",
       "                         geometry      begin        end  \n",
       "228    POINT (-54.95000 -2.63330) 1975-01-01 2007-12-01  \n",
       "620    POINT (-59.95000 -3.11670) 1961-01-01 2019-06-01  \n",
       "4401  POINT (-47.51170 -14.13470) 1969-01-01 2020-10-01  "
      ]
     },
     "execution_count": 230,
     "metadata": {},
     "output_type": "execute_result"
    }
   ],
   "source": [
    "val = [360000, 254003, 1447000]\n",
    "gdf[gdf.Code.isin(val)]"
   ]
  },
  {
   "cell_type": "code",
   "execution_count": 231,
   "metadata": {},
   "outputs": [
    {
     "data": {
      "text/html": [
       "<div>\n",
       "<style scoped>\n",
       "    .dataframe tbody tr th:only-of-type {\n",
       "        vertical-align: middle;\n",
       "    }\n",
       "\n",
       "    .dataframe tbody tr th {\n",
       "        vertical-align: top;\n",
       "    }\n",
       "\n",
       "    .dataframe thead th {\n",
       "        text-align: right;\n",
       "    }\n",
       "</style>\n",
       "<table border=\"1\" class=\"dataframe\">\n",
       "  <thead>\n",
       "    <tr style=\"text-align: right;\">\n",
       "      <th></th>\n",
       "      <th>Area</th>\n",
       "      <th>Latitude_area</th>\n",
       "      <th>Longitude_area</th>\n",
       "      <th>geometry_area</th>\n",
       "      <th>Code</th>\n",
       "      <th>Name</th>\n",
       "      <th>Latitude_station</th>\n",
       "      <th>Longitude_station</th>\n",
       "      <th>Altitude</th>\n",
       "      <th>geometry_station</th>\n",
       "      <th>begin</th>\n",
       "      <th>end</th>\n",
       "    </tr>\n",
       "  </thead>\n",
       "  <tbody>\n",
       "    <tr>\n",
       "      <th>0</th>\n",
       "      <td>Reserva Ducke</td>\n",
       "      <td>-2.953</td>\n",
       "      <td>-59.933</td>\n",
       "      <td>POINT (-59.93300 -2.95300)</td>\n",
       "      <td>360000</td>\n",
       "      <td>MANAUS</td>\n",
       "      <td>-3.1167</td>\n",
       "      <td>-59.9500</td>\n",
       "      <td>67.0</td>\n",
       "      <td>POINT (-59.95000 -3.11670)</td>\n",
       "      <td>1961-01-01</td>\n",
       "      <td>2019-06-01</td>\n",
       "    </tr>\n",
       "    <tr>\n",
       "      <th>1</th>\n",
       "      <td>FLONA Tapajós</td>\n",
       "      <td>-2.908</td>\n",
       "      <td>-54.997</td>\n",
       "      <td>POINT (-54.99700 -2.90800)</td>\n",
       "      <td>254003</td>\n",
       "      <td>BELTERRA</td>\n",
       "      <td>-2.6333</td>\n",
       "      <td>-54.9500</td>\n",
       "      <td>176.0</td>\n",
       "      <td>POINT (-54.95000 -2.63330)</td>\n",
       "      <td>1975-01-01</td>\n",
       "      <td>2007-12-01</td>\n",
       "    </tr>\n",
       "    <tr>\n",
       "      <th>2</th>\n",
       "      <td>Chapada dos Veadeiros</td>\n",
       "      <td>-14.110</td>\n",
       "      <td>-47.647</td>\n",
       "      <td>POINT (-47.64700 -14.11000)</td>\n",
       "      <td>1447000</td>\n",
       "      <td>ALTO PARAÍSO DE GOIÁS</td>\n",
       "      <td>-14.1347</td>\n",
       "      <td>-47.5117</td>\n",
       "      <td>1197.0</td>\n",
       "      <td>POINT (-47.51170 -14.13470)</td>\n",
       "      <td>1969-01-01</td>\n",
       "      <td>2020-10-01</td>\n",
       "    </tr>\n",
       "  </tbody>\n",
       "</table>\n",
       "</div>"
      ],
      "text/plain": [
       "                    Area  Latitude_area  Longitude_area  \\\n",
       "0          Reserva Ducke         -2.953         -59.933   \n",
       "1          FLONA Tapajós         -2.908         -54.997   \n",
       "2  Chapada dos Veadeiros        -14.110         -47.647   \n",
       "\n",
       "                 geometry_area     Code                   Name  \\\n",
       "0   POINT (-59.93300 -2.95300)   360000                 MANAUS   \n",
       "1   POINT (-54.99700 -2.90800)   254003               BELTERRA   \n",
       "2  POINT (-47.64700 -14.11000)  1447000  ALTO PARAÍSO DE GOIÁS   \n",
       "\n",
       "   Latitude_station  Longitude_station  Altitude             geometry_station  \\\n",
       "0           -3.1167           -59.9500      67.0   POINT (-59.95000 -3.11670)   \n",
       "1           -2.6333           -54.9500     176.0   POINT (-54.95000 -2.63330)   \n",
       "2          -14.1347           -47.5117    1197.0  POINT (-47.51170 -14.13470)   \n",
       "\n",
       "       begin        end  \n",
       "0 1961-01-01 2019-06-01  \n",
       "1 1975-01-01 2007-12-01  \n",
       "2 1969-01-01 2020-10-01  "
      ]
     },
     "execution_count": 231,
     "metadata": {},
     "output_type": "execute_result"
    }
   ],
   "source": [
    "val = [360000, 254003, 1447000]\n",
    "gdf_caio['Code'] = val\n",
    "gdf_caio = gdf_caio.merge(gdf[gdf.Code.isin(val)], on='Code', suffixes=('_area', '_station'))\n",
    "gdf_caio"
   ]
  },
  {
   "cell_type": "code",
   "execution_count": 232,
   "metadata": {},
   "outputs": [],
   "source": [
    "df_caio = df_all[df_all.Code.isin(val)].reset_index(drop=True)\n",
    "df_caio = df_caio.merge(gdf_caio[['Code', 'Name']], on=['Code'], how='left')"
   ]
  },
  {
   "cell_type": "code",
   "execution_count": 233,
   "metadata": {},
   "outputs": [],
   "source": [
    "df_caio.to_csv(r'Data\\Deli\\df_caio_ANA.csv', index=False)\n",
    "gdf_caio.to_csv(r'Data\\Deli\\gdf_ANA.csv', index=False)"
   ]
  },
  {
   "cell_type": "code",
   "execution_count": 234,
   "metadata": {},
   "outputs": [
    {
     "name": "stderr",
     "output_type": "stream",
     "text": [
      "C:\\Users\\luisg\\AppData\\Local\\Temp\\ipykernel_25568\\1463185758.py:1: FutureWarning: The default value of numeric_only in DataFrameGroupBy.sum is deprecated. In a future version, numeric_only will default to False. Either specify numeric_only or select only columns which should be valid for the function.\n",
      "  df_map = df_caio.groupby(['Code', df_caio.Date.dt.year]).sum().reset_index().merge(gdf_caio[['Code', 'Name']], on=['Code'], how='left')\n"
     ]
    },
    {
     "data": {
      "text/plain": [
       "<AxesSubplot: xlabel='Name', ylabel='Total'>"
      ]
     },
     "execution_count": 234,
     "metadata": {},
     "output_type": "execute_result"
    },
    {
     "data": {
      "image/png": "[encoded data removed]",
      "text/plain": [
       "<Figure size 1500x1000 with 1 Axes>"
      ]
     },
     "metadata": {},
     "output_type": "display_data"
    }
   ],
   "source": [
    "df_map = df_caio.groupby(['Code', df_caio.Date.dt.year]).sum().reset_index().merge(gdf_caio[['Code', 'Name']], on=['Code'], how='left')\n",
    "#plot boxplot for each code\n",
    "fig, ax = plt.subplots(figsize=(15, 10))\n",
    "sns.boxplot(x='Name', y='Total', data=df_map, ax=ax)"
   ]
  },
  {
   "cell_type": "code",
   "execution_count": 235,
   "metadata": {},
   "outputs": [
    {
     "data": {
      "text/plain": [
       "<AxesSubplot: xlabel='Date', ylabel='Total'>"
      ]
     },
     "execution_count": 235,
     "metadata": {},
     "output_type": "execute_result"
    },
    {
     "data": {
      "image/png": "[encoded data removed]",
      "text/plain": [
       "<Figure size 1600x900 with 1 Axes>"
      ]
     },
     "metadata": {},
     "output_type": "display_data"
    }
   ],
   "source": [
    "fig, ax = plt.subplots(figsize=(16, 9))\n",
    "sns.boxplot(x=df_caio.Date.dt.month, y='Total', data=df_caio, hue='Name', ax=ax)"
   ]
  },
  {
   "attachments": {},
   "cell_type": "markdown",
   "metadata": {},
   "source": [
    "### VPD"
   ]
  },
  {
   "cell_type": "code",
   "execution_count": 236,
   "metadata": {},
   "outputs": [],
   "source": [
    "frame_info = pd.read_csv('inmet_station.csv', index_col=0)\n",
    "df_inmet = pd.read_pickle('inmet_all.pkl')\n",
    "gdf_inmet = gpd.GeoDataFrame(frame_info, geometry=gpd.points_from_xy(frame_info.Longitude, frame_info.Latitude), crs=gdf.crs)\n",
    "#change Code column to integer\n",
    "df_inmet.Code = df_inmet.Code.astype(int)"
   ]
  },
  {
   "cell_type": "code",
   "execution_count": 237,
   "metadata": {},
   "outputs": [],
   "source": [
    "gdf_inmet.sort_values(by='Code', inplace=True)\n",
    "df_inmet.sort_values(by='Code', inplace=True)\n",
    "gdf_inmet = gdf_inmet[gdf_inmet.Code.isin(df_inmet.Code.unique())]\n",
    "gdf_inmet.reset_index(drop=True, inplace=True)\n",
    "gdf_inmet['begin'] = df_inmet.sort_values('Date').groupby('Code').first().reset_index().sort_values('Code')['Date']\n",
    "gdf_inmet['end'] = df_inmet.sort_values('Date').groupby('Code').last().reset_index().sort_values('Code')['Date']"
   ]
  },
  {
   "cell_type": "code",
   "execution_count": 238,
   "metadata": {},
   "outputs": [],
   "source": [
    "df_caio = pd.DataFrame({'Area': ['Reserva Ducke', 'FLONA Tapajós', 'Chapada dos Veadeiros'],\n",
    "     'Latitude': [-2.953, -2.908, -14.110],\n",
    "     'Longitude': [-59.933, -54.997, -47.647]})\n",
    "gdf_caio = gpd.GeoDataFrame(df_caio, geometry=gpd.points_from_xy(df_caio.Longitude, df_caio.Latitude), crs=gdf.crs)"
   ]
  },
  {
   "cell_type": "code",
   "execution_count": 239,
   "metadata": {},
   "outputs": [],
   "source": [
    "index_near = nearest_neighbors(gdf_caio.to_crs('EPSG:4326'), gdf_inmet.to_crs('EPSG:4326'), k_neighbors=5)"
   ]
  },
  {
   "cell_type": "code",
   "execution_count": 240,
   "metadata": {},
   "outputs": [
    {
     "data": {
      "text/html": [
       "<div>\n",
       "<style scoped>\n",
       "    .dataframe tbody tr th:only-of-type {\n",
       "        vertical-align: middle;\n",
       "    }\n",
       "\n",
       "    .dataframe tbody tr th {\n",
       "        vertical-align: top;\n",
       "    }\n",
       "\n",
       "    .dataframe thead th {\n",
       "        text-align: right;\n",
       "    }\n",
       "</style>\n",
       "<table border=\"1\" class=\"dataframe\">\n",
       "  <thead>\n",
       "    <tr style=\"text-align: right;\">\n",
       "      <th></th>\n",
       "      <th>Area</th>\n",
       "      <th>Latitude_area</th>\n",
       "      <th>Longitude_area</th>\n",
       "      <th>geometry_area</th>\n",
       "      <th>Code</th>\n",
       "      <th>Name</th>\n",
       "      <th>Latitude_station</th>\n",
       "      <th>Longitude_station</th>\n",
       "      <th>Altitude</th>\n",
       "      <th>geometry_station</th>\n",
       "      <th>begin</th>\n",
       "      <th>end</th>\n",
       "    </tr>\n",
       "  </thead>\n",
       "  <tbody>\n",
       "    <tr>\n",
       "      <th>0</th>\n",
       "      <td>Reserva Ducke</td>\n",
       "      <td>-2.953</td>\n",
       "      <td>-59.933</td>\n",
       "      <td>POINT (-59.93300 -2.95300)</td>\n",
       "      <td>82331</td>\n",
       "      <td>MANAUS</td>\n",
       "      <td>-3.103333</td>\n",
       "      <td>-60.016389</td>\n",
       "      <td>61.25</td>\n",
       "      <td>POINT (-60.01639 -3.10333)</td>\n",
       "      <td>1981-01-01</td>\n",
       "      <td>2010-12-31</td>\n",
       "    </tr>\n",
       "    <tr>\n",
       "      <th>1</th>\n",
       "      <td>FLONA Tapajós</td>\n",
       "      <td>-2.908</td>\n",
       "      <td>-54.997</td>\n",
       "      <td>POINT (-54.99700 -2.90800)</td>\n",
       "      <td>82246</td>\n",
       "      <td>BELTERRA</td>\n",
       "      <td>-2.642222</td>\n",
       "      <td>-54.943889</td>\n",
       "      <td>164.30</td>\n",
       "      <td>POINT (-54.94389 -2.64222)</td>\n",
       "      <td>1981-01-01</td>\n",
       "      <td>2010-12-31</td>\n",
       "    </tr>\n",
       "    <tr>\n",
       "      <th>2</th>\n",
       "      <td>Chapada dos Veadeiros</td>\n",
       "      <td>-14.110</td>\n",
       "      <td>-47.647</td>\n",
       "      <td>POINT (-47.64700 -14.11000)</td>\n",
       "      <td>83332</td>\n",
       "      <td>POSSE</td>\n",
       "      <td>-14.089167</td>\n",
       "      <td>-46.366667</td>\n",
       "      <td>830.35</td>\n",
       "      <td>POINT (-46.36667 -14.08917)</td>\n",
       "      <td>1981-01-01</td>\n",
       "      <td>2010-12-31</td>\n",
       "    </tr>\n",
       "  </tbody>\n",
       "</table>\n",
       "</div>"
      ],
      "text/plain": [
       "                    Area  Latitude_area  Longitude_area  \\\n",
       "0          Reserva Ducke         -2.953         -59.933   \n",
       "1          FLONA Tapajós         -2.908         -54.997   \n",
       "2  Chapada dos Veadeiros        -14.110         -47.647   \n",
       "\n",
       "                 geometry_area   Code       Name  Latitude_station  \\\n",
       "0   POINT (-59.93300 -2.95300)  82331     MANAUS         -3.103333   \n",
       "1   POINT (-54.99700 -2.90800)  82246   BELTERRA         -2.642222   \n",
       "2  POINT (-47.64700 -14.11000)  83332      POSSE        -14.089167   \n",
       "\n",
       "   Longitude_station  Altitude             geometry_station      begin  \\\n",
       "0         -60.016389     61.25   POINT (-60.01639 -3.10333) 1981-01-01   \n",
       "1         -54.943889    164.30   POINT (-54.94389 -2.64222) 1981-01-01   \n",
       "2         -46.366667    830.35  POINT (-46.36667 -14.08917) 1981-01-01   \n",
       "\n",
       "         end  \n",
       "0 2010-12-31  \n",
       "1 2010-12-31  \n",
       "2 2010-12-31  "
      ]
     },
     "execution_count": 240,
     "metadata": {},
     "output_type": "execute_result"
    }
   ],
   "source": [
    "val = gdf_inmet.iloc[index_near[0, :]]['Code'].values\n",
    "gdf_caio['Code'] = val\n",
    "gdf_caio = gdf_caio.merge(gdf_inmet[gdf_inmet.Code.isin(val)], on='Code', suffixes=('_area', '_station'))\n",
    "gdf_caio.rename(columns={'Nome': 'Name'}, inplace=True)\n",
    "gdf_caio"
   ]
  },
  {
   "cell_type": "code",
   "execution_count": 241,
   "metadata": {},
   "outputs": [],
   "source": [
    "df_caio = df_inmet[df_inmet.Code.isin(val)].reset_index(drop=True)\n",
    "df_caio = df_caio.merge(gdf_caio[['Code', 'Name']], on=['Code'], how='left')\n"
   ]
  },
  {
   "cell_type": "code",
   "execution_count": 242,
   "metadata": {},
   "outputs": [],
   "source": [
    "df_caio.to_csv(r'Data\\Deli\\df_caio_INMET.csv', index=False)\n",
    "gdf_caio.to_csv(r'Data\\Deli\\gdf_INMET.csv', index=False)"
   ]
  }
 ],
 "metadata": {
  "kernelspec": {
   "display_name": "geo_env",
   "language": "python",
   "name": "python3"
  },
  "language_info": {
   "codemirror_mode": {
    "name": "ipython",
    "version": 3
   },
   "file_extension": ".py",
   "mimetype": "text/x-python",
   "name": "python",
   "nbconvert_exporter": "python",
   "pygments_lexer": "ipython3",
   "version": "3.10.6"
  },
  "orig_nbformat": 4
 },
 "nbformat": 4,
 "nbformat_minor": 2
}
